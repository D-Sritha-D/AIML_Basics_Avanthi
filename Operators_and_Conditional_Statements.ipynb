{
  "nbformat": 4,
  "nbformat_minor": 0,
  "metadata": {
    "colab": {
      "provenance": [],
      "authorship_tag": "ABX9TyOmN5+W9Cpeicf06GbAEEJ1",
      "include_colab_link": true
    },
    "kernelspec": {
      "name": "python3",
      "display_name": "Python 3"
    },
    "language_info": {
      "name": "python"
    }
  },
  "cells": [
    {
      "cell_type": "markdown",
      "metadata": {
        "id": "view-in-github",
        "colab_type": "text"
      },
      "source": [
        "<a href=\"https://colab.research.google.com/github/D-Sritha-D/AI_ML/blob/main/Operators_and_Conditional_Statements.ipynb\" target=\"_parent\"><img src=\"https://colab.research.google.com/assets/colab-badge.svg\" alt=\"Open In Colab\"/></a>"
      ]
    },
    {
      "cell_type": "code",
      "execution_count": null,
      "metadata": {
        "id": "5JDvvZGAQMlV",
        "colab": {
          "base_uri": "https://localhost:8080/"
        },
        "outputId": "8a2fa452-d4fd-4ba7-801a-8aa05b71b580"
      },
      "outputs": [
        {
          "output_type": "stream",
          "name": "stdout",
          "text": [
            "Hello World!\n",
            "Enter a number: 8\n",
            "8\n"
          ]
        }
      ],
      "source": [
        "# I/O Statements\n",
        "\n",
        "print('Hello World!')\n",
        "x = int(input(\"Enter a number: \"))\n",
        "print(x)"
      ]
    },
    {
      "cell_type": "code",
      "source": [
        "number = 10\n",
        "\n",
        "float_number = 3.14\n",
        "\n",
        "name = \"John Doe\"\n",
        "\n",
        "is_true = True\n",
        "\n",
        "fruits = [\"apple\", \"banana\", \"orange\", 8]\n",
        "\n",
        "coordinates = (10, 20)\n",
        "\n",
        "unique_numbers = {1, 2, 3, 4, 5}\n",
        "\n",
        "student = {\n",
        "    \"name\": \"Alice\",\n",
        "    \"age\": 20,\n",
        "    \"grade\": \"A\"\n",
        "}\n",
        "\n",
        "empty_variable = None\n",
        "\n",
        "\n",
        "print(type(number))\n",
        "print(type(float_number))\n",
        "print(type(name))\n",
        "print(type(is_true))\n",
        "print(type(fruits))\n",
        "print(type(coordinates))\n",
        "print(type(unique_numbers))\n",
        "print(type(student))\n",
        "print(type(empty_variable))"
      ],
      "metadata": {
        "id": "1tgrvbUcRf3b",
        "colab": {
          "base_uri": "https://localhost:8080/"
        },
        "outputId": "b97243f5-fe5b-4ac1-bd2d-59742a5f8549"
      },
      "execution_count": null,
      "outputs": [
        {
          "output_type": "stream",
          "name": "stdout",
          "text": [
            "<class 'int'>\n",
            "<class 'float'>\n",
            "<class 'str'>\n",
            "<class 'bool'>\n",
            "<class 'list'>\n",
            "<class 'tuple'>\n",
            "<class 'set'>\n",
            "<class 'dict'>\n",
            "<class 'NoneType'>\n"
          ]
        }
      ]
    },
    {
      "cell_type": "code",
      "source": [
        "# Relational operators\n",
        "x = 10\n",
        "y = 5\n",
        "print(x > y)\n",
        "print(x < y)\n",
        "print(x >= y)\n",
        "print(x <= y)\n",
        "print(x == y)\n",
        "print(x != y)"
      ],
      "metadata": {
        "id": "97wkvVkjTVTi",
        "colab": {
          "base_uri": "https://localhost:8080/"
        },
        "outputId": "23eaccd4-1723-481e-9141-37ada0f4d8c6"
      },
      "execution_count": null,
      "outputs": [
        {
          "output_type": "stream",
          "name": "stdout",
          "text": [
            "True\n",
            "False\n",
            "True\n",
            "False\n",
            "False\n",
            "True\n"
          ]
        }
      ]
    },
    {
      "cell_type": "code",
      "source": [
        "# Logical operators\n",
        "a = True\n",
        "b = False\n",
        "print(a and b)\n",
        "print(a or b)\n",
        "print(not a)"
      ],
      "metadata": {
        "id": "oQNn2zVgTVhi",
        "colab": {
          "base_uri": "https://localhost:8080/"
        },
        "outputId": "a9c6d6bf-6089-4f84-8db3-4316fd54a9e7"
      },
      "execution_count": null,
      "outputs": [
        {
          "output_type": "stream",
          "name": "stdout",
          "text": [
            "False\n",
            "True\n",
            "False\n"
          ]
        }
      ]
    },
    {
      "cell_type": "code",
      "source": [
        "# Arithmetic Operators\n",
        "num1 = 10\n",
        "num2 = 3\n",
        "print(num1 + num2)\n",
        "print(num1 - num2)\n",
        "print(num1 * num2)\n",
        "print(num1 / num2)\n",
        "print(num1 // num2)\n",
        "print(num1 % num2)\n",
        "print(num1 ** num2)"
      ],
      "metadata": {
        "id": "8t-Ikz-jTuVB",
        "colab": {
          "base_uri": "https://localhost:8080/"
        },
        "outputId": "e01c43b4-8a24-4bdd-9446-d05e4f8b1e2a"
      },
      "execution_count": null,
      "outputs": [
        {
          "output_type": "stream",
          "name": "stdout",
          "text": [
            "13\n",
            "7\n",
            "30\n",
            "3.3333333333333335\n",
            "3\n",
            "1\n",
            "1000\n"
          ]
        }
      ]
    },
    {
      "cell_type": "code",
      "source": [
        "# Bitwise Operators\n",
        "num3 = 10\n",
        "num4 = 6\n",
        "print(num3 & num4)\n",
        "print(num3 | num4)\n",
        "print(num3 ^ num4)\n",
        "print(num3 >> 1)\n",
        "print(num4 << 2)"
      ],
      "metadata": {
        "id": "Mc9Zn6_hT6Qt",
        "colab": {
          "base_uri": "https://localhost:8080/"
        },
        "outputId": "cf766496-1890-4e33-93c2-35e4dad15ccf"
      },
      "execution_count": null,
      "outputs": [
        {
          "output_type": "stream",
          "name": "stdout",
          "text": [
            "2\n",
            "14\n",
            "12\n",
            "5\n",
            "24\n"
          ]
        }
      ]
    },
    {
      "cell_type": "code",
      "source": [
        "# Assignment operators\n",
        "x = 10\n",
        "x += 5\n",
        "x -= 3\n",
        "x *= 2\n",
        "x /= 4\n",
        "x //= 2\n",
        "x %= 2\n",
        "x **= 3\n",
        "\n",
        "print(x)"
      ],
      "metadata": {
        "id": "JVp0ihd-UqTi"
      },
      "execution_count": null,
      "outputs": []
    },
    {
      "cell_type": "code",
      "source": [
        "# If statement\n",
        "x = 10\n",
        "if x > 5:\n",
        "  print(\"x is greater than 5\")"
      ],
      "metadata": {
        "id": "kzcfq1GhVKMs",
        "colab": {
          "base_uri": "https://localhost:8080/"
        },
        "outputId": "d0d61d45-929e-49c0-87fe-68bfd1be4335"
      },
      "execution_count": null,
      "outputs": [
        {
          "output_type": "stream",
          "name": "stdout",
          "text": [
            "x is greater than 5\n"
          ]
        }
      ]
    },
    {
      "cell_type": "code",
      "source": [
        "# If-else statement\n",
        "y = 3\n",
        "if y % 2 == 0:\n",
        "    print(\"y is an even number\")\n",
        "else:\n",
        "    print(\"y is an odd number\")"
      ],
      "metadata": {
        "id": "WaQyRy9aVW6t",
        "colab": {
          "base_uri": "https://localhost:8080/"
        },
        "outputId": "dc08416c-ab8d-40ee-c3dd-b03b37ede58d"
      },
      "execution_count": null,
      "outputs": [
        {
          "output_type": "stream",
          "name": "stdout",
          "text": [
            "y is an odd number\n"
          ]
        }
      ]
    },
    {
      "cell_type": "code",
      "source": [
        "# Elif statement\n",
        "z = 7\n",
        "if z == 0:\n",
        "    print(\"z is zero\")\n",
        "elif z > 0:\n",
        "    print(\"z is a positive number\")\n",
        "else:\n",
        "    print(\"z is a negative number\")"
      ],
      "metadata": {
        "id": "dXDgFEh-VZWb",
        "colab": {
          "base_uri": "https://localhost:8080/"
        },
        "outputId": "dbfe43f6-f657-473f-90e6-5a28d4c78c11"
      },
      "execution_count": null,
      "outputs": [
        {
          "output_type": "stream",
          "name": "stdout",
          "text": [
            "z is a positive number\n"
          ]
        }
      ]
    },
    {
      "cell_type": "code",
      "source": [
        "# If-elif-else statement\n",
        "grade = \"B\"\n",
        "if grade == \"A\":\n",
        "    print(\"Excellent!\")\n",
        "elif grade == \"B\":\n",
        "    print(\"Good job!\")\n",
        "elif grade == \"C\":\n",
        "    print(\"Fair enough.\")\n",
        "else:\n",
        "    print(\"Try harder next time.\")"
      ],
      "metadata": {
        "id": "qmWVI7snVdSx",
        "colab": {
          "base_uri": "https://localhost:8080/"
        },
        "outputId": "7e17b8a7-7ff6-4a49-e151-b2c61322883c"
      },
      "execution_count": null,
      "outputs": [
        {
          "output_type": "stream",
          "name": "stdout",
          "text": [
            "Good job!\n"
          ]
        }
      ]
    },
    {
      "cell_type": "code",
      "source": [
        "# Switch-case equivalent using a dictionary\n",
        "def switch_case(argument):\n",
        "    switch = {\n",
        "        1: \"This is case 1\",\n",
        "        2: \"This is case 2\",\n",
        "        3: \"This is case 3\",\n",
        "        4: \"This is case 4\",\n",
        "        5: \"This is case 5\"\n",
        "    }\n",
        "    return switch.get(argument, \"Invalid case\")\n",
        "\n",
        "case = 3\n",
        "print(switch_case(case))"
      ],
      "metadata": {
        "id": "BJ9ibL4yVfgk",
        "colab": {
          "base_uri": "https://localhost:8080/"
        },
        "outputId": "d5f491c0-7322-4bcc-f4d7-1a68d96b335b"
      },
      "execution_count": null,
      "outputs": [
        {
          "output_type": "stream",
          "name": "stdout",
          "text": [
            "This is case 3\n"
          ]
        }
      ]
    },
    {
      "cell_type": "code",
      "source": [
        "# Example 2: Iterate through a range\n",
        "for i in range(1,10,2):\n",
        "    print(i)"
      ],
      "metadata": {
        "id": "mCeRqA1HVfrF",
        "colab": {
          "base_uri": "https://localhost:8080/"
        },
        "outputId": "b67e31de-e995-436d-a6b9-ef674eb0d6dc"
      },
      "execution_count": null,
      "outputs": [
        {
          "output_type": "stream",
          "name": "stdout",
          "text": [
            "1\n",
            "3\n",
            "5\n",
            "7\n",
            "9\n"
          ]
        }
      ]
    },
    {
      "cell_type": "code",
      "source": [
        "# Example 1: Simple while loop\n",
        "count = 0\n",
        "while count < 5:\n",
        "    print(count)\n",
        "    count += 1\n",
        "\n",
        "# # Example 2: Using while loop with user input\n",
        "# while True:\n",
        "#     user_input = input(\"Enter 'quit' to exit: \")\n",
        "#     if user_input.lower() == 'quit':\n",
        "#         break\n",
        "#     else:\n",
        "#         print(\"You entered:\", user_input)"
      ],
      "metadata": {
        "colab": {
          "base_uri": "https://localhost:8080/"
        },
        "id": "MNNRjpDpGUqU",
        "outputId": "0f6c0212-a043-47f9-a80c-18a0b64c83ef"
      },
      "execution_count": null,
      "outputs": [
        {
          "output_type": "stream",
          "name": "stdout",
          "text": [
            "0\n",
            "1\n",
            "2\n",
            "3\n",
            "4\n"
          ]
        }
      ]
    },
    {
      "cell_type": "code",
      "source": [
        "# Sum of first N natural numbers\n",
        "n = int(input(\"Enter a number: \"))\n",
        "sum = 0\n",
        "for i in range(n+1):\n",
        "  sum += i\n",
        "print(sum)"
      ],
      "metadata": {
        "colab": {
          "base_uri": "https://localhost:8080/"
        },
        "id": "JJjDGjPBHLgd",
        "outputId": "c6021c95-5ffb-4a66-c230-7f48c2ad4721"
      },
      "execution_count": null,
      "outputs": [
        {
          "output_type": "stream",
          "name": "stdout",
          "text": [
            "Enter a number: 8\n",
            "36\n"
          ]
        }
      ]
    },
    {
      "cell_type": "code",
      "source": [
        "# Perfect Square\n",
        "'''\n",
        "6 --> 1, 2, 3, 6\n",
        "8 --> 1,2,4,8\n",
        "9 --> 1,3,9\n",
        "16 --> 1,2,4,8,16\n",
        "'''\n",
        "\n",
        "n = int(input(\"Enter a number: \"))\n",
        "factors = 0\n",
        "for i in range(1, n+1):\n",
        "  if n%i == 0:\n",
        "    factors += 1\n",
        "\n",
        "if factors%2 == 0:\n",
        "  print(\"Not a perfect square\")\n",
        "else:\n",
        "  print(\"Perfect Square\")"
      ],
      "metadata": {
        "colab": {
          "base_uri": "https://localhost:8080/"
        },
        "id": "OuGTsHc5Hpms",
        "outputId": "dacb3427-4b90-46b5-d429-bf8681341efb"
      },
      "execution_count": null,
      "outputs": [
        {
          "output_type": "stream",
          "name": "stdout",
          "text": [
            "Enter a number: 30\n",
            "Not a perfect square\n"
          ]
        }
      ]
    },
    {
      "cell_type": "code",
      "source": [
        "# Print prime numbers within a given range\n",
        "a = int(input(\"Enter a number: \"))\n",
        "b = int(input(\"Enter a number: \"))\n",
        "for i in range(a, b+1):\n",
        "  factors = 0\n",
        "  for j in range(1,i+1):\n",
        "    if i%j == 0:\n",
        "      factors += 1\n",
        "  if factors <= 2:\n",
        "    print(j)"
      ],
      "metadata": {
        "id": "379fH9KuHhzk"
      },
      "execution_count": null,
      "outputs": []
    },
    {
      "cell_type": "code",
      "source": [
        "# Factorial of a number\n",
        "n = int(input(\"Enter a number: \"))\n",
        "factorial = 1\n",
        "for i in range(1,n+1):\n",
        "  factorial *= i\n",
        "print(factorial)"
      ],
      "metadata": {
        "colab": {
          "base_uri": "https://localhost:8080/"
        },
        "id": "1QgtrmoOHpkZ",
        "outputId": "fc200999-efd9-49f1-b759-7f0fc1cededf"
      },
      "execution_count": null,
      "outputs": [
        {
          "output_type": "stream",
          "name": "stdout",
          "text": [
            "Enter a number: 5\n",
            "120\n"
          ]
        }
      ]
    },
    {
      "cell_type": "code",
      "source": [
        "# Armstrong number\n",
        "n = int(input(\"enter a number: \"))\n",
        "copy = n\n",
        "sum = 0\n",
        "while n>0:\n",
        "  digit = n%10\n",
        "  cube = digit ** 3\n",
        "  n = n // 10\n",
        "  sum += cube\n",
        "\n",
        "if sum == copy:\n",
        "  print(\"Armstrong Number\")\n",
        "else:\n",
        "  print(\"Not an Armstrong Number\")"
      ],
      "metadata": {
        "id": "SonQBhfsHpiX",
        "colab": {
          "base_uri": "https://localhost:8080/"
        },
        "outputId": "690e2e6f-3b51-4e42-c6c6-dbb01ed36512"
      },
      "execution_count": 2,
      "outputs": [
        {
          "output_type": "stream",
          "name": "stdout",
          "text": [
            "enter a number: 153\n",
            "Armstrong Number\n"
          ]
        }
      ]
    }
  ]
}