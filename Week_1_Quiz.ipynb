{
  "nbformat": 4,
  "nbformat_minor": 0,
  "metadata": {
    "colab": {
      "provenance": [],
      "authorship_tag": "ABX9TyOCg2pK5lI/NB/Rc5Z5YY9A",
      "include_colab_link": true
    },
    "kernelspec": {
      "name": "python3",
      "display_name": "Python 3"
    },
    "language_info": {
      "name": "python"
    }
  },
  "cells": [
    {
      "cell_type": "markdown",
      "metadata": {
        "id": "view-in-github",
        "colab_type": "text"
      },
      "source": [
        "<a href=\"https://colab.research.google.com/github/D-Sritha-D/AI_ML/blob/main/Week_1_Quiz.ipynb\" target=\"_parent\"><img src=\"https://colab.research.google.com/assets/colab-badge.svg\" alt=\"Open In Colab\"/></a>"
      ]
    },
    {
      "cell_type": "markdown",
      "source": [
        "**Q1. What is the default data type of NumPy arrays?**\n",
        "\n",
        "a) int32\n",
        "\n",
        "b) float64\n",
        "\n",
        "c) object\n",
        "\n",
        "d) None of the above"
      ],
      "metadata": {
        "id": "c5fMuyFC2fQN"
      }
    },
    {
      "cell_type": "markdown",
      "source": [
        "**Q2. What is the output of the following code?**\n",
        "\n",
        "import numpy as np\n",
        "\n",
        "a = np.array([[1, 2], [3, 4]])\n",
        "\n",
        "print(a)ndim)\n",
        "\n",
        "\n",
        "\n",
        "---\n",
        "\n",
        "\n",
        "a) 0\n",
        "\n",
        "b) 1\n",
        "\n",
        "c) 2\n",
        "\n",
        "d) 3"
      ],
      "metadata": {
        "id": "OjN-7rhE2nAy"
      }
    },
    {
      "cell_type": "markdown",
      "source": [
        "**Q3. What is the output of the following code?**\n",
        "\n",
        "import numpy as np\n",
        "\n",
        "a = np.array([1, 2, 3])\n",
        "\n",
        "b = np.array([4, 5, 6])\n",
        "\n",
        "c = np.stack((a, b))\n",
        "\n",
        "print(c)\n",
        "\n",
        "---\n",
        "a) [[1, 2, 3], [4, 5, 6]]\n",
        "\n",
        "b) [[1, 4], [2, 5], [3, 6]]\n",
        "\n",
        "c) [1, 2, 3, 4, 5, 6]\n",
        "\n",
        "d) Error"
      ],
      "metadata": {
        "id": "bHc3G1UV3jdg"
      }
    },
    {
      "cell_type": "markdown",
      "source": [
        "**Q4. What is the output for the code:**\n",
        "\n",
        "import math\n",
        "\n",
        "abs(math.sqrt(36))\n",
        "\n",
        "\n",
        "a) Error\n",
        "\n",
        "b) -6\n",
        "\n",
        "c) 6\n",
        "\n",
        "d) 6.0\n"
      ],
      "metadata": {
        "id": "aJRQWAd44MZf"
      }
    },
    {
      "cell_type": "markdown",
      "source": [
        "**Q5. What will be the output of the below:**\n"
      ],
      "metadata": {
        "id": "m_aqyq1d5Idv"
      }
    },
    {
      "cell_type": "code",
      "source": [
        "i = 0\n",
        "while i < 5:\n",
        "    print(i)\n",
        "    i += 1\n",
        "    if i == 3:\n",
        "        break\n",
        "else:\n",
        "    print(0)"
      ],
      "metadata": {
        "id": "9xOY4mv15aNk"
      },
      "execution_count": null,
      "outputs": []
    },
    {
      "cell_type": "markdown",
      "source": [
        "a) 1 2 3\n",
        "\n",
        "b) 0 1 2 3\n",
        "\n",
        "c) 0 1 2\n",
        "\n",
        "d) 3 2 1"
      ],
      "metadata": {
        "id": "T0yOXdS45bGM"
      }
    },
    {
      "cell_type": "markdown",
      "source": [
        "**Q6. What is the output of the following code?**"
      ],
      "metadata": {
        "id": "EOs82PzT50w-"
      }
    },
    {
      "cell_type": "code",
      "source": [
        "import numpy as np\n",
        "a = np.array([[1, 2], [3, 4]])\n",
        "print(a)ndim)"
      ],
      "metadata": {
        "id": "Tt3LmqFM546J"
      },
      "execution_count": null,
      "outputs": []
    },
    {
      "cell_type": "markdown",
      "source": [
        "a) 0\n",
        "\n",
        "b) 1\n",
        "\n",
        "c) 2\n",
        "\n",
        "d) 3"
      ],
      "metadata": {
        "id": "Ypd68Mae56VH"
      }
    },
    {
      "cell_type": "code",
      "source": [
        "# https://www.mentimeter.com/app/presentation/alrrivmbz6qf8xgdvnacvp9bgmz99wd4/ri31ntptjwca"
      ],
      "metadata": {
        "id": "Y5P6djMFR0PG"
      },
      "execution_count": null,
      "outputs": []
    },
    {
      "cell_type": "code",
      "source": [
        "# durga.sritha@gmail.com"
      ],
      "metadata": {
        "id": "GqKx0Wr6SWrA"
      },
      "execution_count": null,
      "outputs": []
    }
  ]
}