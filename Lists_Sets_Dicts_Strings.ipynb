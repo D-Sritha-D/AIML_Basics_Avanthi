{
  "nbformat": 4,
  "nbformat_minor": 0,
  "metadata": {
    "colab": {
      "provenance": [],
      "authorship_tag": "ABX9TyOKCsXZ7jJGMFQiJXaxSi1N",
      "include_colab_link": true
    },
    "kernelspec": {
      "name": "python3",
      "display_name": "Python 3"
    },
    "language_info": {
      "name": "python"
    }
  },
  "cells": [
    {
      "cell_type": "markdown",
      "metadata": {
        "id": "view-in-github",
        "colab_type": "text"
      },
      "source": [
        "<a href=\"https://colab.research.google.com/github/D-Sritha-D/AI_ML/blob/main/Lists_Sets_Dicts_Strings.ipynb\" target=\"_parent\"><img src=\"https://colab.research.google.com/assets/colab-badge.svg\" alt=\"Open In Colab\"/></a>"
      ]
    },
    {
      "cell_type": "code",
      "execution_count": 2,
      "metadata": {
        "id": "_5dqfzWcFNpB",
        "colab": {
          "base_uri": "https://localhost:8080/"
        },
        "outputId": "7d04d2fe-a6dd-4f5a-fb50-cf59f24fb762"
      },
      "outputs": [
        {
          "output_type": "stream",
          "name": "stdout",
          "text": [
            "['apple', 'banana', 'cherry']\n"
          ]
        }
      ],
      "source": [
        "# Creating a list\n",
        "fruits = [\"apple\", \"banana\", \"cherry\"]\n",
        "print(fruits)"
      ]
    },
    {
      "cell_type": "code",
      "source": [
        "# Accessing elements in a list\n",
        "print(fruits[0])\n",
        "print(fruits[1])\n",
        "print(fruits[-1])"
      ],
      "metadata": {
        "id": "2w_APNuLFTpQ",
        "colab": {
          "base_uri": "https://localhost:8080/"
        },
        "outputId": "138098ba-cb1f-4c5a-d0db-bbe6e57484c6"
      },
      "execution_count": 3,
      "outputs": [
        {
          "output_type": "stream",
          "name": "stdout",
          "text": [
            "apple\n",
            "banana\n",
            "cherry\n"
          ]
        }
      ]
    },
    {
      "cell_type": "code",
      "source": [
        "# Modifying elements in a list\n",
        "fruits[1] = \"orange\"\n",
        "print(fruits)"
      ],
      "metadata": {
        "id": "FVIXVoJjFTrg",
        "colab": {
          "base_uri": "https://localhost:8080/"
        },
        "outputId": "ff6a3713-9309-4a99-abb9-2d5743018c9b"
      },
      "execution_count": 4,
      "outputs": [
        {
          "output_type": "stream",
          "name": "stdout",
          "text": [
            "['apple', 'orange', 'cherry']\n"
          ]
        }
      ]
    },
    {
      "cell_type": "code",
      "source": [
        "# Adding elements to a list\n",
        "fruits.append(\"grape\")\n",
        "print(fruits)\n",
        "\n",
        "fruits.insert(1, \"kiwi\")\n",
        "print(fruits)"
      ],
      "metadata": {
        "id": "Ih0DsPQvFTtt",
        "colab": {
          "base_uri": "https://localhost:8080/"
        },
        "outputId": "66ffb86b-4edd-454c-bbab-163965d53178"
      },
      "execution_count": 5,
      "outputs": [
        {
          "output_type": "stream",
          "name": "stdout",
          "text": [
            "['apple', 'orange', 'cherry', 'grape']\n",
            "['apple', 'kiwi', 'orange', 'cherry', 'grape']\n"
          ]
        }
      ]
    },
    {
      "cell_type": "code",
      "source": [
        "# Removing elements from a list\n",
        "fruits.remove(\"apple\")\n",
        "print(fruits)\n",
        "\n",
        "popped_fruit = fruits.pop()\n",
        "print(popped_fruit)\n",
        "print(fruits)"
      ],
      "metadata": {
        "id": "92BuY82eFTwD",
        "colab": {
          "base_uri": "https://localhost:8080/"
        },
        "outputId": "1843d9e9-a116-4f4a-a7c9-d3ed1a1cec50"
      },
      "execution_count": 6,
      "outputs": [
        {
          "output_type": "stream",
          "name": "stdout",
          "text": [
            "['kiwi', 'orange', 'cherry', 'grape']\n",
            "grape\n",
            "['kiwi', 'orange', 'cherry']\n"
          ]
        }
      ]
    },
    {
      "cell_type": "code",
      "source": [
        "# List length\n",
        "print(len(fruits))"
      ],
      "metadata": {
        "id": "c9GuW3GoFTye",
        "colab": {
          "base_uri": "https://localhost:8080/"
        },
        "outputId": "ccb68315-4ad5-4040-de30-c87350fb810b"
      },
      "execution_count": 7,
      "outputs": [
        {
          "output_type": "stream",
          "name": "stdout",
          "text": [
            "3\n"
          ]
        }
      ]
    },
    {
      "cell_type": "code",
      "source": [
        "# Sorting a list\n",
        "fruits.sort()\n",
        "print(fruits)"
      ],
      "metadata": {
        "id": "MAkW5quHFT0m",
        "colab": {
          "base_uri": "https://localhost:8080/"
        },
        "outputId": "c0c5c9f1-0d04-4e68-b4a6-db6e7bcfa2cd"
      },
      "execution_count": 8,
      "outputs": [
        {
          "output_type": "stream",
          "name": "stdout",
          "text": [
            "['cherry', 'kiwi', 'orange']\n"
          ]
        }
      ]
    },
    {
      "cell_type": "code",
      "source": [
        "# Reversing a list\n",
        "fruits.reverse()\n",
        "print(fruits)"
      ],
      "metadata": {
        "id": "GQJezgWoFT3K",
        "colab": {
          "base_uri": "https://localhost:8080/"
        },
        "outputId": "0c62a7c7-6ee9-4349-884d-e9ff9a54181b"
      },
      "execution_count": 9,
      "outputs": [
        {
          "output_type": "stream",
          "name": "stdout",
          "text": [
            "['orange', 'kiwi', 'cherry']\n"
          ]
        }
      ]
    },
    {
      "cell_type": "code",
      "source": [
        "n = fruits\n",
        "fruits.pop()\n",
        "print(n)\n",
        "print(fruits)"
      ],
      "metadata": {
        "colab": {
          "base_uri": "https://localhost:8080/"
        },
        "id": "t0xo8S47w92d",
        "outputId": "76a1ad8c-797a-47ee-bb23-e725e6eabe55"
      },
      "execution_count": 10,
      "outputs": [
        {
          "output_type": "stream",
          "name": "stdout",
          "text": [
            "['orange', 'kiwi']\n",
            "['orange', 'kiwi']\n"
          ]
        }
      ]
    },
    {
      "cell_type": "code",
      "source": [
        "# Copying a list\n",
        "fruits_copy = fruits.copy()\n",
        "fruits.pop()\n",
        "print(fruits_copy)\n",
        "print(fruits)"
      ],
      "metadata": {
        "id": "7LpCGdAVFgzi",
        "colab": {
          "base_uri": "https://localhost:8080/"
        },
        "outputId": "2ed2681b-55a9-474a-f899-50d237e17cca"
      },
      "execution_count": 11,
      "outputs": [
        {
          "output_type": "stream",
          "name": "stdout",
          "text": [
            "['orange', 'kiwi']\n",
            "['orange']\n"
          ]
        }
      ]
    },
    {
      "cell_type": "code",
      "source": [
        "# Clearing a list\n",
        "fruits.clear()\n",
        "print(fruits)"
      ],
      "metadata": {
        "id": "kK67CAWPFg1w",
        "colab": {
          "base_uri": "https://localhost:8080/"
        },
        "outputId": "243ecee4-3485-41a5-e1b7-52cc55e5e0e4"
      },
      "execution_count": 12,
      "outputs": [
        {
          "output_type": "stream",
          "name": "stdout",
          "text": [
            "[]\n"
          ]
        }
      ]
    },
    {
      "cell_type": "code",
      "source": [
        "# Print first half ascending and second half descending\n",
        "n = [3, 5, 8, 21, 13, 1, 5, 6, 18, 4]\n",
        "num1 = n[0:5]\n",
        "num1.sort()\n",
        "num2 = n[5:10]\n",
        "num2.sort(reverse  =True)\n",
        "num1 += num2\n",
        "print(num1)"
      ],
      "metadata": {
        "id": "OMIYIUEaFg36",
        "colab": {
          "base_uri": "https://localhost:8080/"
        },
        "outputId": "3abd9dc4-3ea7-41ae-89c2-0da7271b614b"
      },
      "execution_count": 25,
      "outputs": [
        {
          "output_type": "stream",
          "name": "stdout",
          "text": [
            "[3, 5, 8, 13, 21]\n",
            "[18, 6, 5, 4, 1]\n",
            "[3, 5, 8, 13, 21, 18, 6, 5, 4, 1]\n"
          ]
        }
      ]
    },
    {
      "cell_type": "code",
      "source": [
        "n = [3, 5, 8, 21, 13, 1, 5, 6, 18, 4]\n",
        "print(n[0:10:2])"
      ],
      "metadata": {
        "colab": {
          "base_uri": "https://localhost:8080/"
        },
        "id": "tZd7jEOw3eTW",
        "outputId": "7ae56773-f9ed-4c51-e270-e36a666cc09f"
      },
      "execution_count": 27,
      "outputs": [
        {
          "output_type": "stream",
          "name": "stdout",
          "text": [
            "[3, 8, 13, 5, 18]\n"
          ]
        }
      ]
    },
    {
      "cell_type": "code",
      "source": [
        "print(n[-8:-3:2])"
      ],
      "metadata": {
        "colab": {
          "base_uri": "https://localhost:8080/"
        },
        "id": "hnaRC7MH3y6a",
        "outputId": "76a490f8-9070-4604-c82e-eb51d6ec2aba"
      },
      "execution_count": 34,
      "outputs": [
        {
          "output_type": "stream",
          "name": "stdout",
          "text": [
            "[8, 13, 5]\n"
          ]
        }
      ]
    },
    {
      "cell_type": "code",
      "source": [
        "# Create a set\n",
        "fruits = {\"apple\", \"banana\", \"cherry\"}\n",
        "\n",
        "# Add an element to a set\n",
        "fruits.add(\"orange\")\n",
        "\n",
        "# Remove an element from a set\n",
        "fruits.remove(\"banana\")\n",
        "\n",
        "print(fruits)"
      ],
      "metadata": {
        "id": "1gFf88VvFg6J",
        "colab": {
          "base_uri": "https://localhost:8080/"
        },
        "outputId": "c9433072-9c80-4967-ec54-23a96be1c3f9"
      },
      "execution_count": 36,
      "outputs": [
        {
          "output_type": "stream",
          "name": "stdout",
          "text": [
            "{'orange', 'apple', 'cherry'}\n"
          ]
        }
      ]
    },
    {
      "cell_type": "code",
      "source": [
        "# Check if an element is in a set\n",
        "print(\"apple\" in fruits)\n",
        "\n",
        "# Get the length of a set\n",
        "print(len(fruits))\n",
        "\n",
        "# Iterate over a set\n",
        "for fruit in fruits:\n",
        "    print(fruit)"
      ],
      "metadata": {
        "id": "7W929PWfFg8a"
      },
      "execution_count": null,
      "outputs": []
    },
    {
      "cell_type": "code",
      "source": [
        "# Perform set operations\n",
        "set1 = {1, 2, 3}\n",
        "set2 = {3, 4, 5}"
      ],
      "metadata": {
        "id": "D7xEXaV9Fg_q"
      },
      "execution_count": 44,
      "outputs": []
    },
    {
      "cell_type": "code",
      "source": [
        "# Union of two sets\n",
        "union_set = set1.union(set2)\n",
        "print(union_set)\n",
        "\n",
        "# Intersection of two sets\n",
        "intersection_set = set1.intersection(set2)\n",
        "print(intersection_set)\n",
        "\n",
        "# Difference of two sets\n",
        "difference_set = set2.difference(set1)\n",
        "print(difference_set)\n",
        "\n",
        "# Check if a set is a subset of another set\n",
        "is_subset = set1.issubset(set2)\n",
        "print(is_subset)\n",
        "\n",
        "# Check if a set is a superset of another set\n",
        "is_superset = set1.issuperset(set2)\n",
        "print(is_superset)\n",
        "\n",
        "# Remove all elements from a set\n",
        "fruits.clear()\n",
        "print(fruits)"
      ],
      "metadata": {
        "id": "O8Mo0i_eFT6Y",
        "colab": {
          "base_uri": "https://localhost:8080/"
        },
        "outputId": "d74250b4-5f57-48c5-ae86-f8e4a614442f"
      },
      "execution_count": 45,
      "outputs": [
        {
          "output_type": "stream",
          "name": "stdout",
          "text": [
            "{1, 2, 3, 4, 5}\n",
            "{3}\n",
            "{4, 5}\n",
            "False\n",
            "False\n",
            "set()\n"
          ]
        }
      ]
    },
    {
      "cell_type": "code",
      "source": [
        "# Print number of distinct elements in a list of values\n",
        "n = [3, 5, 6, 3, 3, 15, 5, 5, 6, 3, 6, 1]\n",
        "x = set(n)\n",
        "print(x)"
      ],
      "metadata": {
        "id": "ZYqA10ANG4e2",
        "colab": {
          "base_uri": "https://localhost:8080/"
        },
        "outputId": "2918087e-7a17-4cc4-f42a-69ae3fddbae0"
      },
      "execution_count": 47,
      "outputs": [
        {
          "output_type": "stream",
          "name": "stdout",
          "text": [
            "{1, 3, 5, 6, 15}\n"
          ]
        }
      ]
    },
    {
      "cell_type": "code",
      "source": [
        "# Find the sum of even values in a list\n",
        "x = [1, 32, 24, 13, 97, 1, 8, 14 , 99, 34, 5, 56, 8, 23]\n",
        "sum = 0\n",
        "for i in x:\n",
        "  if i%2 == 0:\n",
        "    sum += i\n",
        "print(sum)"
      ],
      "metadata": {
        "colab": {
          "base_uri": "https://localhost:8080/"
        },
        "id": "wrj4YDlm8st1",
        "outputId": "5b670227-b525-42d8-d97a-b8f6b4e1f79d"
      },
      "execution_count": 48,
      "outputs": [
        {
          "output_type": "stream",
          "name": "stdout",
          "text": [
            "176\n"
          ]
        }
      ]
    },
    {
      "cell_type": "code",
      "source": [
        "# Create a dictionary\n",
        "my_dict = {\n",
        "    \"name\": \"John\",\n",
        "    \"age\": 30,\n",
        "    \"city\": \"New York\"\n",
        "}\n",
        "# Print the original dictionary\n",
        "print(\"Original Dictionary:\", my_dict)"
      ],
      "metadata": {
        "id": "jX7TyIM4GxNC",
        "colab": {
          "base_uri": "https://localhost:8080/"
        },
        "outputId": "dbb384a7-f03f-4716-94df-dfa46bddb6ff"
      },
      "execution_count": 53,
      "outputs": [
        {
          "output_type": "stream",
          "name": "stdout",
          "text": [
            "Original Dictionary: {'name': 'John', 'age': 30, 'city': 'New York'}\n"
          ]
        }
      ]
    },
    {
      "cell_type": "code",
      "source": [
        "# Accessing values\n",
        "print(\"Name:\", my_dict[\"name\"])\n",
        "print(\"Age:\", my_dict.get(\"age\"))"
      ],
      "metadata": {
        "id": "DGuaz0tQGxPR",
        "colab": {
          "base_uri": "https://localhost:8080/"
        },
        "outputId": "6a8d9065-5536-45f9-cc29-ad27d1616b4b"
      },
      "execution_count": 54,
      "outputs": [
        {
          "output_type": "stream",
          "name": "stdout",
          "text": [
            "Name: John\n",
            "Age: 30\n"
          ]
        }
      ]
    },
    {
      "cell_type": "code",
      "source": [
        "# Updating values\n",
        "my_dict[\"age\"] = 32\n",
        "print(\"Updated Dictionary:\", my_dict)"
      ],
      "metadata": {
        "id": "ChBZXQYrGxRV",
        "colab": {
          "base_uri": "https://localhost:8080/"
        },
        "outputId": "7bc71602-d8a3-4fa4-c52f-c285535603be"
      },
      "execution_count": 55,
      "outputs": [
        {
          "output_type": "stream",
          "name": "stdout",
          "text": [
            "Updated Dictionary: {'name': 'John', 'age': 32, 'city': 'New York'}\n"
          ]
        }
      ]
    },
    {
      "cell_type": "code",
      "source": [
        "# Adding new key-value pairs\n",
        "my_dict[\"occupation\"] = \"Engineer\"\n",
        "print(\"Dictionary after adding a new key-value pair:\", my_dict)"
      ],
      "metadata": {
        "id": "a6j59nyHGxTs",
        "colab": {
          "base_uri": "https://localhost:8080/"
        },
        "outputId": "8c0a8ef8-2f11-4175-c9e5-d5e98b587092"
      },
      "execution_count": 56,
      "outputs": [
        {
          "output_type": "stream",
          "name": "stdout",
          "text": [
            "Dictionary after adding a new key-value pair: {'name': 'John', 'age': 32, 'city': 'New York', 'occupation': 'Engineer'}\n"
          ]
        }
      ]
    },
    {
      "cell_type": "code",
      "source": [
        "# Removing key-value pairs\n",
        "my_dict.pop(\"city\")\n",
        "print(\"Dictionary after removing a key-value pair:\", my_dict)"
      ],
      "metadata": {
        "id": "v6z7CJQuGxV5"
      },
      "execution_count": null,
      "outputs": []
    },
    {
      "cell_type": "code",
      "source": [
        "# Checking if a key exists\n",
        "if \"age\" in my_dict:\n",
        "    print(\"Age exists in the dictionary\")"
      ],
      "metadata": {
        "id": "axOe5LBpGxX5",
        "colab": {
          "base_uri": "https://localhost:8080/"
        },
        "outputId": "de084c85-4a75-44ef-bcf2-8cc8be8d5d6d"
      },
      "execution_count": 57,
      "outputs": [
        {
          "output_type": "stream",
          "name": "stdout",
          "text": [
            "Age exists in the dictionary\n"
          ]
        }
      ]
    },
    {
      "cell_type": "code",
      "source": [
        "# Iterating over keys\n",
        "print(\"Keys:\")\n",
        "for value in my_dict.values():\n",
        "    print(value)"
      ],
      "metadata": {
        "id": "bpCXqV0dGxaW",
        "colab": {
          "base_uri": "https://localhost:8080/"
        },
        "outputId": "453e9261-676f-414e-ec9a-209eec9dcbe3"
      },
      "execution_count": 61,
      "outputs": [
        {
          "output_type": "stream",
          "name": "stdout",
          "text": [
            "Keys:\n",
            "John\n",
            "32\n",
            "New York\n",
            "Engineer\n"
          ]
        }
      ]
    },
    {
      "cell_type": "code",
      "source": [
        "# Iterating over values\n",
        "print(\"Values:\")\n",
        "for value in my_dict.values():\n",
        "    print(value)"
      ],
      "metadata": {
        "id": "sD3GIgfSGxdj"
      },
      "execution_count": null,
      "outputs": []
    },
    {
      "cell_type": "code",
      "source": [
        "# Iterating over items (key-value pairs)\n",
        "print(\"Items:\")\n",
        "for key, value in my_dict.items():\n",
        "    print(key, \":\", value)"
      ],
      "metadata": {
        "id": "iXm7mdGZIKy5",
        "colab": {
          "base_uri": "https://localhost:8080/"
        },
        "outputId": "34debc56-66f1-4cb8-e0c2-82e9625a183f"
      },
      "execution_count": 62,
      "outputs": [
        {
          "output_type": "stream",
          "name": "stdout",
          "text": [
            "Items:\n",
            "name : John\n",
            "age : 32\n",
            "city : New York\n",
            "occupation : Engineer\n"
          ]
        }
      ]
    },
    {
      "cell_type": "code",
      "source": [
        "# Clearing the dictionary\n",
        "my_dict.clear()\n",
        "print(\"Dictionary after clearing all the elements:\", my_dict)"
      ],
      "metadata": {
        "id": "UwUyz19-IK1Y",
        "colab": {
          "base_uri": "https://localhost:8080/"
        },
        "outputId": "82620f24-a8de-4fad-bcda-750b65e2fe33"
      },
      "execution_count": 63,
      "outputs": [
        {
          "output_type": "stream",
          "name": "stdout",
          "text": [
            "Dictionary after clearing all the elements: {}\n"
          ]
        }
      ]
    },
    {
      "cell_type": "code",
      "source": [
        "x = [1, 32, 24, 13, 97, 1, 8, 14 , 99, 34, 5, 56, 8, 23]\n",
        "for i in range(len(x)):\n",
        "  if x[i]%2 == 0:\n",
        "    for j in range(i+1, len(x)):\n",
        "      if x[j]%2 == 1:\n",
        "        x[i] = x[j]\n",
        "        break\n",
        "  else:\n",
        "    for j in range(i+1, len(x)):\n",
        "      if x[j]%2 == 0:\n",
        "        x[i] = x[j]\n",
        "        break\n",
        "print(x)"
      ],
      "metadata": {
        "colab": {
          "base_uri": "https://localhost:8080/"
        },
        "id": "tqrPWJoAAoUh",
        "outputId": "b8bd0733-0acd-4aba-b818-4bef3bbc2368"
      },
      "execution_count": 78,
      "outputs": [
        {
          "output_type": "stream",
          "name": "stdout",
          "text": [
            "[32, 13, 13, 8, 8, 8, 99, 99, 34, 5, 56, 23, 23, 23]\n"
          ]
        }
      ]
    },
    {
      "cell_type": "code",
      "source": [
        "# Frequency of elements in array\n",
        "x = [3, 5, 7, 3, 5, 7, 7, 7, 3, 5, 7, 3]\n",
        "distinct = set(x)\n",
        "dict = {}\n",
        "for i in distinct:\n",
        "  dict[i] = 0\n",
        "for i in x:\n",
        "  dict[i] += 1\n",
        "print(dict)\n"
      ],
      "metadata": {
        "id": "D_JpfKo8IK3f",
        "colab": {
          "base_uri": "https://localhost:8080/"
        },
        "outputId": "97660165-616e-4282-8910-2be860261bdc"
      },
      "execution_count": 74,
      "outputs": [
        {
          "output_type": "stream",
          "name": "stdout",
          "text": [
            "{3: 4, 5: 3, 7: 5}\n"
          ]
        }
      ]
    },
    {
      "cell_type": "code",
      "source": [
        "# Find the sum and mutliply.\n",
        "x = [3, 6, 8, 21, 5, 7, 24, 31, 0, 61]\n",
        "new_list = []\n",
        "final = []\n",
        "for i in range(len(x)-1):\n",
        "  new_list.append(x[i]+x[i+1])\n",
        "for i in range(len(new_list)-1):\n",
        "  final.append(new_list[i]*new_list[i+1])\n",
        "sum = 0\n",
        "for i in final:\n",
        "  sum += i\n",
        "print(new_list)\n",
        "print(final)\n",
        "print(sum)\n"
      ],
      "metadata": {
        "colab": {
          "base_uri": "https://localhost:8080/"
        },
        "id": "Qq2uMze8OBEz",
        "outputId": "153bbd77-dbb9-42d7-a68a-6bcc4c3bbe48"
      },
      "execution_count": 77,
      "outputs": [
        {
          "output_type": "stream",
          "name": "stdout",
          "text": [
            "[9, 14, 29, 26, 12, 31, 55, 31, 61]\n",
            "[126, 406, 754, 312, 372, 1705, 1705, 1891]\n",
            "7271\n"
          ]
        }
      ]
    },
    {
      "cell_type": "code",
      "source": [
        "string = \"Pragathi and Kavya like to watch movies.\"\n",
        "\n",
        "print(\"Original String:\", string)\n",
        "print(\"Length:\", len(string))\n",
        "print(\"Upper Case:\", string.upper())\n",
        "print(\"Lower Case:\", string.lower())\n",
        "print(\"Title Case:\", string.title())\n",
        "\n",
        "print(\"Swap Case:\", string.swapcase())\n",
        "print(\"Is Upper Case:\", string.isupper())\n",
        "print(\"Is Lower Case:\", string.islower())\n",
        "print(\"Is Title Case:\", string.istitle())\n",
        "print(\"Is Numeric:\", string.isnumeric())\n",
        "\n",
        "print(\"Is Alphanumeric:\", string.isalnum())\n",
        "print(\"Starts With 'Hello':\", string.startswith(\"Hello\"))\n",
        "print(\"Ends With 'World!':\", string.endswith(\"World!\"))\n",
        "print(\"Count of 'l':\", string.count(\"l\"))\n",
        "print(\"Index of 'o':\", string.index(\"o\"))\n",
        "print(\"Replace 'Hello' with 'Hi':\", string.replace(\"Hello\", \"Hi\"))\n",
        "print(\"Split by ',':\", string.split(','))\n",
        "print(\"Joined with '-':\", \"-\".join(string.split())) #lstrip, rstrip"
      ],
      "metadata": {
        "id": "WiDHNIjtuIT-",
        "outputId": "6c34eff1-d7e9-4aa0-ce72-171c0b8a5a26",
        "colab": {
          "base_uri": "https://localhost:8080/"
        }
      },
      "execution_count": 85,
      "outputs": [
        {
          "output_type": "stream",
          "name": "stdout",
          "text": [
            "Original String: Pragathi and Kavya like to watch movies.\n",
            "Length: 40\n",
            "Upper Case: PRAGATHI AND KAVYA LIKE TO WATCH MOVIES.\n",
            "Lower Case: pragathi and kavya like to watch movies.\n",
            "Title Case: Pragathi And Kavya Like To Watch Movies.\n",
            "Swap Case: pRAGATHI AND kAVYA LIKE TO WATCH MOVIES.\n",
            "Is Upper Case: False\n",
            "Is Lower Case: False\n",
            "Is Title Case: False\n",
            "Is Numeric: False\n",
            "Is Alphanumeric: False\n",
            "Starts With 'Hello': False\n",
            "Ends With 'World!': False\n",
            "Count of 'l': 1\n",
            "Index of 'o': 25\n",
            "Replace 'Hello' with 'Hi': Pragathi and Kavya like to watch movies.\n",
            "Split by ',': ['Pragathi and Kavya like to watch movies.']\n",
            "Joined with '-': Pragathi-and-Kavya-like-to-watch-movies.\n"
          ]
        }
      ]
    },
    {
      "cell_type": "code",
      "source": [
        "s = \"She.is.very.pretty.so.he.likes.her\"\n",
        "print(s.split('.'))\n",
        "print(\" \".join(s.split('.')))"
      ],
      "metadata": {
        "id": "Pd3u7YC-vQ1v",
        "outputId": "34bf2ee9-2c1a-4479-f088-0b9039f927d6",
        "colab": {
          "base_uri": "https://localhost:8080/"
        }
      },
      "execution_count": 86,
      "outputs": [
        {
          "output_type": "stream",
          "name": "stdout",
          "text": [
            "['She', 'is', 'very', 'pretty', 'so', 'he', 'likes', 'her']\n",
            "She is very pretty so he likes her\n"
          ]
        }
      ]
    },
    {
      "cell_type": "code",
      "source": [
        "def demonstrate_string_slicing(string):\n",
        "\n",
        "    print(\"Slice [2:]:\", string[2:])\n",
        "\n",
        "    print(\"Slice [:4]:\", string[:4])\n",
        "\n",
        "    print(\"Slice [2:7]:\", string[2:7])\n",
        "\n",
        "    print(\"Slice [-2:]:\", string[-2:])\n",
        "\n",
        "    print(\"Slice [-5:-2]:\", string[-5:-2])\n",
        "\n",
        "    print(\"Slice [::2]:\", string[::2])\n",
        "\n",
        "    print(\"Reverse string:\", string[2:6:-1])\n",
        "\n",
        "# Test the function\n",
        "demo_string = \"Hello, World!\"\n",
        "demonstrate_string_slicing(demo_string)"
      ],
      "metadata": {
        "id": "aUxzoN3TvThE",
        "outputId": "1ecc1625-1357-487f-e900-8757b5ddae03",
        "colab": {
          "base_uri": "https://localhost:8080/"
        }
      },
      "execution_count": 87,
      "outputs": [
        {
          "output_type": "stream",
          "name": "stdout",
          "text": [
            "Slice [2:]: llo, World!\n",
            "Slice [:4]: Hell\n",
            "Slice [2:7]: llo, \n",
            "Slice [-2:]: d!\n",
            "Slice [-5:-2]: orl\n",
            "Slice [::2]: Hlo ol!\n",
            "Reverse string: \n"
          ]
        }
      ]
    },
    {
      "cell_type": "code",
      "source": [
        "s = \"Madhav loves fish fry\""
      ],
      "metadata": {
        "id": "tOz0qAYdvVpj"
      },
      "execution_count": 88,
      "outputs": []
    },
    {
      "cell_type": "code",
      "source": [
        "s[-1:-22:-1]"
      ],
      "metadata": {
        "id": "UIwOTxH2y9o3",
        "outputId": "bbfaa6d4-4bf8-429a-a887-0980f00a9cf5",
        "colab": {
          "base_uri": "https://localhost:8080/",
          "height": 35
        }
      },
      "execution_count": 83,
      "outputs": [
        {
          "output_type": "execute_result",
          "data": {
            "text/plain": [
              "'yrf hsif sevol vahdaM'"
            ],
            "application/vnd.google.colaboratory.intrinsic+json": {
              "type": "string"
            }
          },
          "metadata": {},
          "execution_count": 83
        }
      ]
    },
    {
      "cell_type": "code",
      "source": [
        "s[::-1]"
      ],
      "metadata": {
        "id": "IIjfu2Pqy9q_",
        "outputId": "8da15499-a0de-4946-b7a4-3790b4323136",
        "colab": {
          "base_uri": "https://localhost:8080/",
          "height": 35
        }
      },
      "execution_count": 84,
      "outputs": [
        {
          "output_type": "execute_result",
          "data": {
            "text/plain": [
              "'yrf hsif sevol vahdaM'"
            ],
            "application/vnd.google.colaboratory.intrinsic+json": {
              "type": "string"
            }
          },
          "metadata": {},
          "execution_count": 84
        }
      ]
    }
  ]
}