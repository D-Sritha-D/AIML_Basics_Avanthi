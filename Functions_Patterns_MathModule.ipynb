{
  "nbformat": 4,
  "nbformat_minor": 0,
  "metadata": {
    "colab": {
      "provenance": [],
      "authorship_tag": "ABX9TyP2s8Zf2HlcbjXiaGaGAAyp",
      "include_colab_link": true
    },
    "kernelspec": {
      "name": "python3",
      "display_name": "Python 3"
    },
    "language_info": {
      "name": "python"
    }
  },
  "cells": [
    {
      "cell_type": "markdown",
      "metadata": {
        "id": "view-in-github",
        "colab_type": "text"
      },
      "source": [
        "<a href=\"https://colab.research.google.com/github/D-Sritha-D/AI_ML/blob/main/Functions_Patterns_MathModule.ipynb\" target=\"_parent\"><img src=\"https://colab.research.google.com/assets/colab-badge.svg\" alt=\"Open In Colab\"/></a>"
      ]
    },
    {
      "cell_type": "code",
      "execution_count": null,
      "metadata": {
        "colab": {
          "base_uri": "https://localhost:8080/"
        },
        "id": "N0huv6SKi67-",
        "outputId": "67c3a01a-710b-46db-daa1-f57c489a20d6"
      },
      "outputs": [
        {
          "output_type": "stream",
          "name": "stdout",
          "text": [
            "dairymilk\n",
            "snickers\n",
            "milkybar\n",
            "kitkat\n"
          ]
        }
      ],
      "source": [
        "def chocolates():\n",
        "  print(\"dairymilk\")\n",
        "  print(\"snickers\")\n",
        "  print(\"milkybar\")\n",
        "\n",
        "chocolates()\n",
        "print(\"kitkat\")"
      ]
    },
    {
      "cell_type": "code",
      "source": [
        "def number(b):\n",
        "  if a>=5:\n",
        "    print(\"Good\")\n",
        "  else:\n",
        "    print(\"Bad\")\n",
        "\n",
        "b = 5\n",
        "number(b)\n",
        "b = 10\n",
        "number(b)\n",
        "b = 1\n",
        "number(b)"
      ],
      "metadata": {
        "colab": {
          "base_uri": "https://localhost:8080/"
        },
        "id": "F4XIU6Nin1xj",
        "outputId": "af4f0fb0-b2dd-4bbc-d904-6a8a014f1a40"
      },
      "execution_count": null,
      "outputs": [
        {
          "output_type": "stream",
          "name": "stdout",
          "text": [
            "Bad\n",
            "Bad\n",
            "Bad\n"
          ]
        }
      ]
    },
    {
      "cell_type": "code",
      "source": [
        "def number(a,b):\n",
        "  print(a)\n",
        "  print(b)\n",
        "\n",
        "a = 5\n",
        "b = 6\n",
        "number(a,b)\n"
      ],
      "metadata": {
        "colab": {
          "base_uri": "https://localhost:8080/"
        },
        "id": "zZg-dgWsoKad",
        "outputId": "fa9e65d0-550a-4aa7-e63e-b3a85f0454cb"
      },
      "execution_count": null,
      "outputs": [
        {
          "output_type": "stream",
          "name": "stdout",
          "text": [
            "5\n",
            "6\n"
          ]
        }
      ]
    },
    {
      "cell_type": "code",
      "source": [
        "# Write a function to calculate the grades of a student based on their marks\n",
        "def grades(marks):\n",
        "  if marks>= 90 and marks <=100:\n",
        "    print(\"Grade is O\")\n",
        "\n",
        "for i in range(10):\n",
        "  x = int(input(\"Enter your marks: \"))\n",
        "  grades(x)"
      ],
      "metadata": {
        "id": "O0yOWfb5q8KR"
      },
      "execution_count": null,
      "outputs": []
    },
    {
      "cell_type": "code",
      "source": [
        "import math\n",
        "\n",
        "# Constants\n",
        "print(\"Value of pi:\", math.pi)\n",
        "print(\"Value of e:\", math.e)\n",
        "\n",
        "# Basic mathematical functions\n",
        "print(\"Square root of 16:\", math.sqrt(16))\n",
        "print(\"Absolute value of -5:\", math.fabs(-5))\n",
        "print(\"Factorial of 5:\", math.factorial(5))\n",
        "print(\"Power of 2 to 3:\", math.pow(2, 3))\n",
        "print(\"Logarithm of 10 to the base 2:\", math.log2(10))\n",
        "print(\"Logarithm of 10 to the base 10:\", math.log10(10))\n",
        "print(\"Natural logarithm of 10:\", math.log(10))\n",
        "print(\"Exponential of 2:\", math.exp(2))\n",
        "\n",
        "# Trigonometric functions (angles in radians)\n",
        "print(\"Sine of 0 radians:\", math.sin(0))\n",
        "print(\"Cosine of pi radians:\", math.cos(math.pi))\n",
        "print(\"Tangent of pi/4 radians:\", math.tan(math.pi/4))\n",
        "print(\"Arcsine of 0.5:\", math.asin(0.5))\n",
        "print(\"Arccosine of 0.5:\", math.acos(0.5))\n",
        "print(\"Arctangent of 1:\", math.atan(1))\n",
        "print(\"Convert radians to degrees (pi/2):\", math.degrees(math.pi/2))\n",
        "print(\"Convert degrees to radians (90):\", math.radians(90))\n",
        "\n",
        "\n"
      ],
      "metadata": {
        "colab": {
          "base_uri": "https://localhost:8080/"
        },
        "id": "LaVFauhAj5sB",
        "outputId": "ceca3688-a39b-42a0-e826-ca9a3e618f15"
      },
      "execution_count": null,
      "outputs": [
        {
          "output_type": "stream",
          "name": "stdout",
          "text": [
            "Value of pi: 3.141592653589793\n",
            "Value of e: 2.718281828459045\n",
            "Square root of 16: 4.0\n",
            "Absolute value of -5: 5.0\n",
            "Factorial of 5: 120\n",
            "Power of 2 to 3: 8.0\n",
            "Logarithm of 10 to the base 2: 3.321928094887362\n",
            "Logarithm of 10 to the base 10: 1.0\n",
            "Natural logarithm of 10: 2.302585092994046\n",
            "Exponential of 2: 7.38905609893065\n",
            "Sine of 0 radians: 0.0\n",
            "Cosine of pi radians: -1.0\n",
            "Tangent of pi/4 radians: 0.9999999999999999\n",
            "Arcsine of 0.5: 0.5235987755982989\n",
            "Arccosine of 0.5: 1.0471975511965979\n",
            "Arctangent of 1: 0.7853981633974483\n",
            "Convert radians to degrees (pi/2): 90.0\n",
            "Convert degrees to radians (90): 1.5707963267948966\n"
          ]
        }
      ]
    },
    {
      "cell_type": "code",
      "source": [
        "count = 1\n",
        "for i in range(1,5):\n",
        "  for j in range(i):\n",
        "    print(count, end=\" \")\n",
        "    count += 1\n",
        "  print()"
      ],
      "metadata": {
        "colab": {
          "base_uri": "https://localhost:8080/"
        },
        "id": "4xLPtDOU3tWS",
        "outputId": "a40338cf-e60e-4823-b586-c1b6ac0f09e2"
      },
      "execution_count": null,
      "outputs": [
        {
          "output_type": "stream",
          "name": "stdout",
          "text": [
            "1 \n",
            "2 3 \n",
            "4 5 6 \n",
            "7 8 9 10 \n"
          ]
        }
      ]
    },
    {
      "cell_type": "code",
      "source": [
        "for i in range(4):\n",
        "    for j in range(4):\n",
        "        print(\"*\", end=\" \")\n",
        "    print()"
      ],
      "metadata": {
        "id": "oLzeSRs0ka4R",
        "colab": {
          "base_uri": "https://localhost:8080/"
        },
        "outputId": "4367e0a6-c644-4b5f-eeff-e1e9ffcb9193"
      },
      "execution_count": 2,
      "outputs": [
        {
          "output_type": "stream",
          "name": "stdout",
          "text": [
            "* * * * \n",
            "* * * * \n",
            "* * * * \n",
            "* * * * \n"
          ]
        }
      ]
    },
    {
      "cell_type": "code",
      "source": [
        "x = int(input(\"Enter a number\"))\n",
        "for i in range(x):\n",
        "    for j in range(x):\n",
        "        if i == 0 or i == x-1 or j == 0 or j == x-1:\n",
        "            print(\"*\", end=\" \")\n",
        "        else:\n",
        "            print(\" \", end=\" \")\n",
        "    print()\n"
      ],
      "metadata": {
        "colab": {
          "base_uri": "https://localhost:8080/"
        },
        "id": "g414Np2akdQo",
        "outputId": "98e54157-20ef-4526-c76d-89ae0db2d801"
      },
      "execution_count": 1,
      "outputs": [
        {
          "output_type": "stream",
          "name": "stdout",
          "text": [
            "Enter a number4\n",
            "* * * * \n",
            "*     * \n",
            "*     * \n",
            "* * * * \n"
          ]
        }
      ]
    },
    {
      "cell_type": "code",
      "source": [
        "for i in range(1, 6):\n",
        "    for j in range(i):\n",
        "        print(\"*\", end=\"\")\n",
        "    print()\n"
      ],
      "metadata": {
        "id": "5rT2CXmfkfmr",
        "colab": {
          "base_uri": "https://localhost:8080/"
        },
        "outputId": "4eeda265-0a33-46d4-b57c-1943bf351635"
      },
      "execution_count": 3,
      "outputs": [
        {
          "output_type": "stream",
          "name": "stdout",
          "text": [
            "*\n",
            "**\n",
            "***\n",
            "****\n",
            "*****\n"
          ]
        }
      ]
    },
    {
      "cell_type": "code",
      "source": [
        "rows = 4\n",
        "\n",
        "for i in range(rows):\n",
        "    for j in range(rows - i - 1):\n",
        "        print(\" \", end=\"\")\n",
        "\n",
        "    for k in range(2 * i + 1):\n",
        "        print(\"*\", end=\"\")\n",
        "    print()\n"
      ],
      "metadata": {
        "id": "uMTKYSS5kryr",
        "colab": {
          "base_uri": "https://localhost:8080/"
        },
        "outputId": "64abe737-584c-4417-c37a-0acf2dcfb436"
      },
      "execution_count": 5,
      "outputs": [
        {
          "output_type": "stream",
          "name": "stdout",
          "text": [
            "   *\n",
            "  ***\n",
            " *****\n",
            "*******\n"
          ]
        }
      ]
    }
  ]
}