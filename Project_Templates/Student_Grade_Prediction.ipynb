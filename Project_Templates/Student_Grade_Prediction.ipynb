{
  "nbformat": 4,
  "nbformat_minor": 0,
  "metadata": {
    "colab": {
      "provenance": []
    },
    "kernelspec": {
      "name": "python3",
      "display_name": "Python 3"
    },
    "language_info": {
      "name": "python"
    }
  },
  "cells": [
    {
      "cell_type": "markdown",
      "source": [
        "# **Student Performance Prediction**"
      ],
      "metadata": {
        "id": "Mn83R128Rltv"
      }
    },
    {
      "cell_type": "markdown",
      "source": [
        "\n",
        "### **Abstract:**\n",
        "\n",
        "In the realm of education, understanding and predicting student performance is paramount for educators and policymakers alike. By leveraging various factors such as socio-economic background, prior academic achievements, and personal attributes, predictive models can offer insights into student outcomes. This paper aims to explore the efficacy of machine learning algorithms in forecasting student performance and to identify key predictors that influence academic success. We utilize a dataset comprising demographic information, academic records, and socio-economic indicators to train and evaluate predictive models. Our findings indicate that certain features such as parental education, attendance rates, and study habits significantly impact student performance. The predictive models developed in this study exhibit promising accuracy and can serve as valuable tools for educational institutions in identifying at-risk students and implementing targeted interventions.\n"
      ],
      "metadata": {
        "id": "wHWdTFSfR0LD"
      }
    },
    {
      "cell_type": "markdown",
      "source": [
        "### **Introduction:**\n",
        "\n",
        "In today's educational landscape, the ability to anticipate student performance has profound implications for educational institutions, policymakers, and stakeholders. Understanding the factors that contribute to academic success or failure enables educators to implement proactive measures aimed at enhancing student outcomes and narrowing achievement gaps. While traditional methods of assessment and evaluation provide valuable insights, the advent of machine learning techniques offers new avenues for predictive analytics in education.\n",
        "\n",
        "The predictive modeling of student performance involves analyzing a myriad of factors that extend beyond academic aptitude alone. Socio-economic background, familial support structures, learning environments, and personal attributes all play pivotal roles in shaping student achievement. By harnessing the power of machine learning algorithms, researchers can discern intricate patterns within vast datasets and derive predictive models capable of forecasting student performance with remarkable accuracy.\n",
        "\n",
        "This study endeavors to explore the predictive capabilities of machine learning algorithms in forecasting student performance. By leveraging a comprehensive dataset encompassing demographic information, academic records, and socio-economic indicators, we seek to identify key predictors that influence academic outcomes. Through rigorous analysis and model evaluation, we aim to elucidate the complex interplay between various factors and student success.\n",
        "\n",
        "The remainder of this paper is organized as follows: Section 2 provides an overview of related work in the field of predictive modeling in education. Section 3 outlines the methodology employed in this study, including data preprocessing, feature selection, and model training. Section 4 presents the results of our analysis, including model performance metrics and key findings. Finally, Section 5 discusses the implications of our findings and avenues for future research in the realm of student performance prediction."
      ],
      "metadata": {
        "id": "bjZMGgT3SBy8"
      }
    },
    {
      "cell_type": "markdown",
      "source": [
        "# **Data Preprocessing**"
      ],
      "metadata": {
        "id": "4Hp6RTJJSONU"
      }
    },
    {
      "cell_type": "markdown",
      "source": [
        "**Step 1:** Import the necessary libraries"
      ],
      "metadata": {
        "id": "gIbgogTnSSbV"
      }
    },
    {
      "cell_type": "code",
      "source": [],
      "metadata": {
        "id": "mZ08zI5fSVqN"
      },
      "execution_count": null,
      "outputs": []
    },
    {
      "cell_type": "markdown",
      "source": [
        "**Step 2:** Read the data from kaggle and print the first 5 and last 5 rows.\n",
        "\n"
      ],
      "metadata": {
        "id": "7xLdhtUySV1T"
      }
    },
    {
      "cell_type": "code",
      "source": [
        "# https://www.kaggle.com/datasets/spscientist/students-performance-in-exams"
      ],
      "metadata": {
        "id": "Edi-TgjhRlak"
      },
      "execution_count": 1,
      "outputs": []
    },
    {
      "cell_type": "markdown",
      "source": [
        "**Step 3:** Print the rows and columns of the dataset."
      ],
      "metadata": {
        "id": "b3Ia7fHTSe6Q"
      }
    },
    {
      "cell_type": "code",
      "source": [],
      "metadata": {
        "id": "nSYgvxIvSuCp"
      },
      "execution_count": null,
      "outputs": []
    },
    {
      "cell_type": "markdown",
      "source": [
        "**Step 4:** Find null values."
      ],
      "metadata": {
        "id": "5rnH3eHtSuK6"
      }
    },
    {
      "cell_type": "code",
      "source": [],
      "metadata": {
        "id": "hUEGnbe0S5bR"
      },
      "execution_count": null,
      "outputs": []
    },
    {
      "cell_type": "markdown",
      "source": [
        "**Step 5:** What is the type of each column of data?"
      ],
      "metadata": {
        "id": "DwGqKw_WS5jZ"
      }
    },
    {
      "cell_type": "code",
      "source": [],
      "metadata": {
        "id": "ytDCz5xUS-Gd"
      },
      "execution_count": null,
      "outputs": []
    },
    {
      "cell_type": "markdown",
      "source": [
        "**Step 6:** Count the number of male and female students."
      ],
      "metadata": {
        "id": "sx-r-a1AS-Pt"
      }
    },
    {
      "cell_type": "code",
      "source": [],
      "metadata": {
        "id": "FyA2nc6VTWfu"
      },
      "execution_count": null,
      "outputs": []
    },
    {
      "cell_type": "markdown",
      "source": [
        "**Step 7:** Count the number of options that come under 'parental level of education"
      ],
      "metadata": {
        "id": "AvdGUIO4TWoQ"
      }
    },
    {
      "cell_type": "code",
      "source": [],
      "metadata": {
        "id": "EU0b8nmFTgic"
      },
      "execution_count": null,
      "outputs": []
    },
    {
      "cell_type": "markdown",
      "source": [
        "**Step 8:** What other columns have categorical values?"
      ],
      "metadata": {
        "id": "GK0pmKKATgqR"
      }
    },
    {
      "cell_type": "code",
      "source": [],
      "metadata": {
        "id": "czdZsubfTlET"
      },
      "execution_count": null,
      "outputs": []
    },
    {
      "cell_type": "code",
      "source": [],
      "metadata": {
        "id": "6nJdhmr0TlIu"
      },
      "execution_count": null,
      "outputs": []
    },
    {
      "cell_type": "code",
      "source": [],
      "metadata": {
        "id": "WlUMapPiTlMg"
      },
      "execution_count": null,
      "outputs": []
    },
    {
      "cell_type": "markdown",
      "source": [
        "**Step 9:** Create a column called 'average' to find the mean of reading, writing and math score."
      ],
      "metadata": {
        "id": "dX4DmBJgTlXS"
      }
    },
    {
      "cell_type": "code",
      "source": [],
      "metadata": {
        "id": "bOrdgEXsT83k"
      },
      "execution_count": null,
      "outputs": []
    },
    {
      "cell_type": "markdown",
      "source": [
        "# **Exploratory Data Analysis**"
      ],
      "metadata": {
        "id": "6T5fWcHSVe0f"
      }
    },
    {
      "cell_type": "markdown",
      "source": [
        "**Step 1:** Plot a histogram of the math score, reading score and writing score as 3 subplots."
      ],
      "metadata": {
        "id": "rEVRbQzST9mZ"
      }
    },
    {
      "cell_type": "code",
      "source": [],
      "metadata": {
        "id": "Kd3Jo6SmUER7"
      },
      "execution_count": null,
      "outputs": []
    },
    {
      "cell_type": "markdown",
      "source": [
        "**Step 2:** Use seaborns 'pairplot' function on all the numerical data."
      ],
      "metadata": {
        "id": "VSG0eHcyUEbo"
      }
    },
    {
      "cell_type": "code",
      "source": [],
      "metadata": {
        "id": "sDtI1YHMU4jG"
      },
      "execution_count": null,
      "outputs": []
    },
    {
      "cell_type": "markdown",
      "source": [
        "**Step 3:** Plot a bar plot taking 'race/ethnicity' as x-axis and 'average' as the y-axis"
      ],
      "metadata": {
        "id": "aqW5kPqsU4tj"
      }
    },
    {
      "cell_type": "code",
      "source": [],
      "metadata": {
        "id": "88Iq8RhrVPkm"
      },
      "execution_count": null,
      "outputs": []
    },
    {
      "cell_type": "markdown",
      "source": [
        "**Step 4:** Plot a bar chart to show parental education vs. average."
      ],
      "metadata": {
        "id": "lSRDEJdyVPr2"
      }
    },
    {
      "cell_type": "code",
      "source": [],
      "metadata": {
        "id": "I9IRCtOCVazP"
      },
      "execution_count": null,
      "outputs": []
    },
    {
      "cell_type": "markdown",
      "source": [
        "**Step 5:** What is the parental education with the lowest average?"
      ],
      "metadata": {
        "id": "Oj2Hlo1lVa6j"
      }
    },
    {
      "cell_type": "code",
      "source": [],
      "metadata": {
        "id": "PedTCtMMVz3n"
      },
      "execution_count": null,
      "outputs": []
    },
    {
      "cell_type": "markdown",
      "source": [
        "**Step 6:** Create a new column for the students who passed (P) and failed (F)\n",
        "\n",
        "For the 3 subjects: Math, Reading, Writing"
      ],
      "metadata": {
        "id": "61M7INR8V0CZ"
      }
    },
    {
      "cell_type": "code",
      "source": [],
      "metadata": {
        "id": "n7CZI_Dmb24O"
      },
      "execution_count": null,
      "outputs": []
    },
    {
      "cell_type": "code",
      "source": [],
      "metadata": {
        "id": "_H-D6BK8b202"
      },
      "execution_count": null,
      "outputs": []
    },
    {
      "cell_type": "code",
      "source": [],
      "metadata": {
        "id": "qWk6L1SEb0Ad"
      },
      "execution_count": 1,
      "outputs": []
    },
    {
      "cell_type": "markdown",
      "source": [
        "**Step 7:** Print the new dataframe"
      ],
      "metadata": {
        "id": "reb6quoXb0IG"
      }
    },
    {
      "cell_type": "code",
      "source": [],
      "metadata": {
        "id": "8Hb4bbxGb-en"
      },
      "execution_count": null,
      "outputs": []
    },
    {
      "cell_type": "markdown",
      "source": [
        "**Step 8:** Print the number of passed and failed students in each subject"
      ],
      "metadata": {
        "id": "3frjsuTpb-tQ"
      }
    },
    {
      "cell_type": "code",
      "source": [],
      "metadata": {
        "id": "VR5cOJctcPRt"
      },
      "execution_count": null,
      "outputs": []
    },
    {
      "cell_type": "code",
      "source": [],
      "metadata": {
        "id": "eLaFTuCYcPUz"
      },
      "execution_count": null,
      "outputs": []
    },
    {
      "cell_type": "code",
      "source": [],
      "metadata": {
        "id": "qX13AeO-cPX4"
      },
      "execution_count": null,
      "outputs": []
    },
    {
      "cell_type": "markdown",
      "source": [
        "**Step 9:** Plot a graph to show a double bar graph against parental level of education vs. math, reading, writing score. Construct 3 grpahs as subplots."
      ],
      "metadata": {
        "id": "30aiUs7YcPki"
      }
    },
    {
      "cell_type": "code",
      "source": [],
      "metadata": {
        "id": "jZ-3epUEcrRs"
      },
      "execution_count": null,
      "outputs": []
    },
    {
      "cell_type": "markdown",
      "source": [
        "**Step 10:** Plot a graph to show a double bar graph against test preparation course of education vs. math, reading, writing score. Construct 3 graphs as subplots.\n",
        "\n"
      ],
      "metadata": {
        "id": "rKfwv7racriW"
      }
    },
    {
      "cell_type": "code",
      "source": [],
      "metadata": {
        "id": "MuVXc6nVc07V"
      },
      "execution_count": null,
      "outputs": []
    },
    {
      "cell_type": "markdown",
      "source": [
        "# **Building the Model**"
      ],
      "metadata": {
        "id": "Dzadi9X1dHqt"
      }
    },
    {
      "cell_type": "markdown",
      "source": [
        "Let's predict the writing score for a particular student."
      ],
      "metadata": {
        "id": "nh1LXE-zc1DJ"
      }
    },
    {
      "cell_type": "markdown",
      "source": [
        "**Step 1:** Define the X and y"
      ],
      "metadata": {
        "id": "Z7qBh2PleB4m"
      }
    },
    {
      "cell_type": "code",
      "source": [],
      "metadata": {
        "id": "kBzj_Dv9eFIP"
      },
      "execution_count": null,
      "outputs": []
    },
    {
      "cell_type": "markdown",
      "source": [
        "**Step 2:** Identify the various categorical columns present in the dataset."
      ],
      "metadata": {
        "id": "IDhcOaB0eFQa"
      }
    },
    {
      "cell_type": "code",
      "source": [],
      "metadata": {
        "id": "DPgumbf0eNBU"
      },
      "execution_count": null,
      "outputs": []
    },
    {
      "cell_type": "markdown",
      "source": [
        "**Step 3:** Convert the categorical variables into numerical variables by one hot encoding."
      ],
      "metadata": {
        "id": "oYqaIu04eNJk"
      }
    },
    {
      "cell_type": "code",
      "source": [],
      "metadata": {
        "id": "iAP3OkJneTUf"
      },
      "execution_count": null,
      "outputs": []
    },
    {
      "cell_type": "markdown",
      "source": [
        "**Step 4**: Do train test split"
      ],
      "metadata": {
        "id": "vlI-kYy3erTu"
      }
    },
    {
      "cell_type": "code",
      "source": [],
      "metadata": {
        "id": "6P-al3zrejIg"
      },
      "execution_count": null,
      "outputs": []
    },
    {
      "cell_type": "markdown",
      "source": [
        "**Step 5:** Implement various models to see which ones have the highest accuracy."
      ],
      "metadata": {
        "id": "EyNel5QCejRP"
      }
    },
    {
      "cell_type": "code",
      "source": [],
      "metadata": {
        "id": "H9vzjsNhp9AU"
      },
      "execution_count": null,
      "outputs": []
    },
    {
      "cell_type": "markdown",
      "source": [
        "# **Model Evaluation:**"
      ],
      "metadata": {
        "id": "dYTK2lYBp9b_"
      }
    },
    {
      "cell_type": "markdown",
      "source": [
        "**Step 1:** Calculate the best models accuracy."
      ],
      "metadata": {
        "id": "YnolhMaGqBVp"
      }
    },
    {
      "cell_type": "code",
      "source": [],
      "metadata": {
        "id": "mDVnXy8ZqF9j"
      },
      "execution_count": null,
      "outputs": []
    },
    {
      "cell_type": "markdown",
      "source": [
        "**Step 2:** Make predictions"
      ],
      "metadata": {
        "id": "ubpE4H50qR-_"
      }
    },
    {
      "cell_type": "code",
      "source": [],
      "metadata": {
        "id": "ZktmuPlVqVFE"
      },
      "execution_count": null,
      "outputs": []
    },
    {
      "cell_type": "markdown",
      "source": [
        "**Step 3:** Construct a confusion matrix for the predictions"
      ],
      "metadata": {
        "id": "sVWo3esKqGey"
      }
    },
    {
      "cell_type": "code",
      "source": [],
      "metadata": {
        "id": "li3dj8KlqAvf"
      },
      "execution_count": null,
      "outputs": []
    }
  ]
}