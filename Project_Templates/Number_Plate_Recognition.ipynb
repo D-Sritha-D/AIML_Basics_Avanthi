{
  "nbformat": 4,
  "nbformat_minor": 0,
  "metadata": {
    "colab": {
      "provenance": []
    },
    "kernelspec": {
      "name": "python3",
      "display_name": "Python 3"
    },
    "language_info": {
      "name": "python"
    }
  },
  "cells": [
    {
      "cell_type": "markdown",
      "source": [
        "# **Car and Number Plate Recognition Using OpenCV**"
      ],
      "metadata": {
        "id": "xNLev56E-kS8"
      }
    },
    {
      "cell_type": "markdown",
      "source": [
        "\n",
        "**Abstract:**\n",
        "\n",
        "Automatic Number Plate Recognition (ANPR) systems have gained significant traction in various applications, including traffic management, law enforcement, and vehicle tracking. This paper presents an implementation of an ANPR system using Python, OpenCV, and EasyOCR. The system leverages computer vision techniques for image preprocessing, plate localization, and character recognition. OpenCV provides robust functionalities for image processing and manipulation, while EasyOCR offers a simple yet powerful tool for optical character recognition (OCR). Through the integration of these technologies, the ANPR system demonstrates efficient and accurate detection and recognition of license plates in real-world scenarios."
      ],
      "metadata": {
        "id": "03DFN1lv_RPu"
      }
    },
    {
      "cell_type": "markdown",
      "source": [
        "**Introduction:**\n",
        "\n",
        "Automatic Number Plate Recognition (ANPR) technology has emerged as a crucial component in modern traffic management and surveillance systems. With advancements in computer vision and machine learning, ANPR systems have become increasingly accurate and reliable. The ability to automatically detect and recognize license plates from images or video streams enables a wide range of applications, including toll collection, parking management, and vehicle identification in law enforcement.\n",
        "\n",
        "In this paper, we present a Python-based implementation of an ANPR system utilizing two powerful libraries: OpenCV and EasyOCR. OpenCV, an open-source computer vision library, provides a comprehensive set of tools for image processing, feature extraction, and object detection. EasyOCR, on the other hand, offers a user-friendly interface for optical character recognition, capable of recognizing text in various languages with high accuracy.\n",
        "\n",
        "The proposed ANPR system follows a systematic approach to license plate recognition. It begins with preprocessing techniques to enhance image quality and improve plate visibility. Subsequently, plate localization algorithms are employed to identify candidate regions containing license plates within the image. Finally, EasyOCR is utilized to perform character recognition on the segmented plate regions, extracting the alphanumeric characters comprising the license plate number.\n",
        "\n",
        "Through the integration of OpenCV and EasyOCR, our ANPR system demonstrates efficient and reliable performance in real-world scenarios. The system's ability to accurately detect and recognize license plates makes it applicable in diverse environments, ranging from traffic surveillance to parking management systems. Moreover, the Python implementation ensures flexibility and ease of integration with existing software frameworks, making it accessible to developers and researchers in the field of computer vision and intelligent transportation systems."
      ],
      "metadata": {
        "id": "aoVZW8SE_TDD"
      }
    },
    {
      "cell_type": "markdown",
      "source": [
        "# **Install the Dependancies**"
      ],
      "metadata": {
        "id": "7vWAWJFp_XjL"
      }
    },
    {
      "cell_type": "markdown",
      "source": [
        "**Step 1:** Run the below cell"
      ],
      "metadata": {
        "id": "Y1VGLyO4_adV"
      }
    },
    {
      "cell_type": "code",
      "execution_count": null,
      "metadata": {
        "id": "5sLKalCo-VuV"
      },
      "outputs": [],
      "source": [
        "!pip install easyocr\n",
        "!pip install imutils"
      ]
    },
    {
      "cell_type": "markdown",
      "source": [
        "**Step 2:** Import numpy, pandas, matplotlip.pyplot, easyocr, imutils"
      ],
      "metadata": {
        "id": "uWBr3Kt2GWxP"
      }
    },
    {
      "cell_type": "code",
      "source": [],
      "metadata": {
        "id": "DKIM5wWnGUl6"
      },
      "execution_count": null,
      "outputs": []
    },
    {
      "cell_type": "markdown",
      "source": [
        "# **Read Image in Greyscale**"
      ],
      "metadata": {
        "id": "2Xnv6G2B_lpl"
      }
    },
    {
      "cell_type": "markdown",
      "source": [
        "**Step 1:** Read the image of a car using the imshow() method"
      ],
      "metadata": {
        "id": "n4lfuVTRGf4N"
      }
    },
    {
      "cell_type": "code",
      "source": [
        "img ="
      ],
      "metadata": {
        "id": "GuGjcY5M-sGd"
      },
      "execution_count": null,
      "outputs": []
    },
    {
      "cell_type": "markdown",
      "source": [
        "**Step 2:** Convert the image to a grey scale.\n",
        "\n",
        "*Hint: cv2.cvtColor() is a function provided by OpenCV for color space conversion.*"
      ],
      "metadata": {
        "id": "gz2FHbuPIFXy"
      }
    },
    {
      "cell_type": "code",
      "source": [
        "gray ="
      ],
      "metadata": {
        "id": "NQd5iQ9aIigq"
      },
      "execution_count": null,
      "outputs": []
    },
    {
      "cell_type": "markdown",
      "source": [
        "**Step 3:** Read the grey scale image of the car using the imshow() method\n",
        "\n",
        "*Hint:*\n",
        "* *Convert the BGR image to RGB format for Matplotlib display*\n",
        "> *rgb_image = cv2.cvtColor(image_name, cv2.COLOR_BGR2RGB)*\n",
        "\n",
        "* *Now display the image using imshow()*\n",
        "\n",
        "\n",
        "\n",
        "\n",
        "\n"
      ],
      "metadata": {
        "id": "DXdN-oW3IitI"
      }
    },
    {
      "cell_type": "code",
      "source": [],
      "metadata": {
        "id": "d3qE6kPsIuwI"
      },
      "execution_count": null,
      "outputs": []
    },
    {
      "cell_type": "markdown",
      "source": [
        "# **Edge Detection**"
      ],
      "metadata": {
        "id": "7G9l0cqD_qJX"
      }
    },
    {
      "cell_type": "markdown",
      "source": [
        "**`Step 1:`** Apply the bilateral filter on the gray scale image to reduce noise\n",
        "\n",
        "*Hint: bfilter = cv2.bilateralFilter(gray, diameter, sigma_color, sigma_space)*"
      ],
      "metadata": {
        "id": "A_uw2s7QIwRQ"
      }
    },
    {
      "cell_type": "code",
      "source": [],
      "metadata": {
        "id": "hJCGVIBfI79V"
      },
      "execution_count": null,
      "outputs": []
    },
    {
      "cell_type": "markdown",
      "source": [
        "**Step 2:** Using the Canny() method, detect the edges of the image.\n",
        "\n",
        "*Hint: edged = cv2.Canny(bfilter, threshold1, threshold2)*"
      ],
      "metadata": {
        "id": "dKESvST9I8GD"
      }
    },
    {
      "cell_type": "code",
      "source": [],
      "metadata": {
        "id": "0yD1faK-JHN6"
      },
      "execution_count": null,
      "outputs": []
    },
    {
      "cell_type": "markdown",
      "source": [
        "**Step 3:** Plot the edge detected image using imshow()"
      ],
      "metadata": {
        "id": "MAzNONu0JHVn"
      }
    },
    {
      "cell_type": "code",
      "source": [],
      "metadata": {
        "id": "PkpXpSdMKiTy"
      },
      "execution_count": null,
      "outputs": []
    },
    {
      "cell_type": "markdown",
      "source": [
        "# **Finding Contours**"
      ],
      "metadata": {
        "id": "QIGJz8ag_s2_"
      }
    },
    {
      "cell_type": "markdown",
      "source": [
        "**Step 1:** Find the contours in the image"
      ],
      "metadata": {
        "id": "Fcck6bf2Kitp"
      }
    },
    {
      "cell_type": "code",
      "source": [
        "keypoints = cv2.findContours(edged.copy(), cv2.RETR_TREE, cv2.CHAIN_APPROX_SIMPLE)"
      ],
      "metadata": {
        "id": "bLXt2zi0Kynq"
      },
      "execution_count": null,
      "outputs": []
    },
    {
      "cell_type": "markdown",
      "source": [
        "**cv2.findContours():** This is a function provided by OpenCV for finding contours in images.\n",
        "\n",
        "**edged.copy():** This is the binary image in which contours will be found.\n",
        "\n",
        "**.copy()** ensures that the original image (edged) remains unchanged.\n",
        "\n",
        "**cv2.RETR_TREE:** This is the retrieval mode for the contours. RETR_TREE retrieves all of the contours and reconstructs a full hierarchy of nested contours.\n",
        "\n",
        "**cv2.CHAIN_APPROX_SIMPLE:** This is the contour approximation method. It compresses horizontal, vertical, and diagonal segments and leaves only their end points. For example, if you have a straight line in your image, only two end points of that line will be stored.\n",
        "\n",
        "After the execution of this line of code, keypoints will contain the contours found in the binary image (edged). Contours are represented as lists of points, where each point is represented by its (x, y) coordinates."
      ],
      "metadata": {
        "id": "QncuwFtVK2IF"
      }
    },
    {
      "cell_type": "markdown",
      "source": [
        "**Step 2:** Utilize a function from the ```imutils```\n",
        " library to extract contours from the result obtained using the ```cv2.findContours()``` function in OpenCV."
      ],
      "metadata": {
        "id": "ATfzKVa_Kz_s"
      }
    },
    {
      "cell_type": "code",
      "source": [
        "contours ="
      ],
      "metadata": {
        "id": "4KlKCAGTLf4t"
      },
      "execution_count": null,
      "outputs": []
    },
    {
      "cell_type": "markdown",
      "source": [
        "**Step 3:** Sort the list of contours (contours) based on their areas in descending order and selects the top 10 largest contours."
      ],
      "metadata": {
        "id": "pxwF28yhLheO"
      }
    },
    {
      "cell_type": "code",
      "source": [
        "# Fill in the ------ with the correct answer.\n",
        "contours = sorted(contours, key = -------, reverse=True)[:10]"
      ],
      "metadata": {
        "id": "FwAHy6d8LmPb"
      },
      "execution_count": null,
      "outputs": []
    },
    {
      "cell_type": "markdown",
      "source": [
        "**Step 4:** Iterate through the contours that you have found and located the contours which have rectangular shape. (As the number plate will have rectangular shape)"
      ],
      "metadata": {
        "id": "XGjorAVhL2s7"
      }
    },
    {
      "cell_type": "code",
      "source": [
        "# Fill in the ----- with the answers.\n",
        "location = None\n",
        "for contour in contours:\n",
        "    approx = cv2.approxPolyDP(contour, ----- , True) #Fill in with total contours being considered\n",
        "    if len(approx) == ----- : # Fill in with, how many dimensions a quadrilateral has.\n",
        "        location = approx\n",
        "        break"
      ],
      "metadata": {
        "id": "hWZFT0mAL1fT"
      },
      "execution_count": null,
      "outputs": []
    },
    {
      "cell_type": "markdown",
      "source": [
        "**Step 5:** Print location"
      ],
      "metadata": {
        "id": "Sc37wZDKNfge"
      }
    },
    {
      "cell_type": "code",
      "source": [],
      "metadata": {
        "id": "qddEzVBINjna"
      },
      "execution_count": null,
      "outputs": []
    },
    {
      "cell_type": "markdown",
      "source": [
        "# **Masking the Image**"
      ],
      "metadata": {
        "id": "GQjt6HgINj_F"
      }
    },
    {
      "cell_type": "markdown",
      "source": [
        "**Step 1:** Create a blank mask image of the same dimensions as the grayscale image gray"
      ],
      "metadata": {
        "id": "Ch9oC_JpNr46"
      }
    },
    {
      "cell_type": "code",
      "source": [
        "mask ="
      ],
      "metadata": {
        "id": "sNWPfqrHNwY2"
      },
      "execution_count": null,
      "outputs": []
    },
    {
      "cell_type": "markdown",
      "source": [
        "**Step 2:** Draw contours on the mask image based on the location vertices obtained earlier.\n",
        "\n",
        "*Hint: new_image = cv2.drawContours(image, contours, contourIdx, color, thickness)*\n"
      ],
      "metadata": {
        "id": "0Zz_LplSODAO"
      }
    },
    {
      "cell_type": "code",
      "source": [
        "new_image ="
      ],
      "metadata": {
        "id": "y0Edf1aHOMu4"
      },
      "execution_count": null,
      "outputs": []
    },
    {
      "cell_type": "markdown",
      "source": [
        "**Step 3:** Perform a bitwise AND operation between two images (img and mask) using OpenCV\n",
        "\n",
        "*Hint: new_image = cv2.bitwise_and(src1, src2, mask=mask)*"
      ],
      "metadata": {
        "id": "PTEgFSZpOi9y"
      }
    },
    {
      "cell_type": "code",
      "source": [],
      "metadata": {
        "id": "81VCPL7EQSAc"
      },
      "execution_count": null,
      "outputs": []
    },
    {
      "cell_type": "markdown",
      "source": [
        "**Step 4:** On running the below command, you should be able to get a masked image with only the car number plate showing."
      ],
      "metadata": {
        "id": "nqQKe_X2QYjq"
      }
    },
    {
      "cell_type": "code",
      "source": [
        "plt.imshow(cv2.cvtColor(new_image, cv2.COLOR_BGR2RGB))"
      ],
      "metadata": {
        "id": "WUlr_wkLQiP5"
      },
      "execution_count": null,
      "outputs": []
    },
    {
      "cell_type": "markdown",
      "source": [
        "**Step 5:** Crop the above image to get only the number plate"
      ],
      "metadata": {
        "id": "VXLvuiQDQoFj"
      }
    },
    {
      "cell_type": "code",
      "source": [
        "(x,y) =\n",
        "(x1, y1) =\n",
        "(x2, y2) =\n",
        "cropped_image ="
      ],
      "metadata": {
        "id": "R-AlNY5FQtVp"
      },
      "execution_count": null,
      "outputs": []
    },
    {
      "cell_type": "markdown",
      "source": [
        "**Step 6:** On running the command below you should get the cropped image of the number plate."
      ],
      "metadata": {
        "id": "VzhQicPJQtol"
      }
    },
    {
      "cell_type": "code",
      "source": [
        "plt.imshow(cv2.cvtColor(cropped_image, cv2.COLOR_BGR2RGB))"
      ],
      "metadata": {
        "id": "AKxwxIbpSzdk"
      },
      "execution_count": null,
      "outputs": []
    },
    {
      "cell_type": "markdown",
      "source": [
        "# **Read the text of the cropped image**"
      ],
      "metadata": {
        "id": "plXPCzS1_wCV"
      }
    },
    {
      "cell_type": "markdown",
      "source": [
        "**Step 1:** Initialize the EasyOCR reader with the desired languages"
      ],
      "metadata": {
        "id": "Lv2k0aRZUtJQ"
      }
    },
    {
      "cell_type": "code",
      "source": [
        "reader ="
      ],
      "metadata": {
        "id": "Ifdztlxi_0SF"
      },
      "execution_count": null,
      "outputs": []
    },
    {
      "cell_type": "markdown",
      "source": [
        "**Step 2:** Perform OCR on the cropped image by using the function ```reader.readtext()```"
      ],
      "metadata": {
        "id": "P8vm_N8aU5Hb"
      }
    },
    {
      "cell_type": "code",
      "source": [
        "result ="
      ],
      "metadata": {
        "id": "L9OPUcj8VBOQ"
      },
      "execution_count": null,
      "outputs": []
    },
    {
      "cell_type": "markdown",
      "source": [
        "**Step 3:** Print result"
      ],
      "metadata": {
        "id": "ZI_KtqiSVBw-"
      }
    },
    {
      "cell_type": "code",
      "source": [],
      "metadata": {
        "id": "QfWZzXEBVO_h"
      },
      "execution_count": null,
      "outputs": []
    },
    {
      "cell_type": "markdown",
      "source": [
        "# **Output**"
      ],
      "metadata": {
        "id": "t3WyU1Es_0gD"
      }
    },
    {
      "cell_type": "markdown",
      "source": [
        "**Step 1:** Extracting text from OCR:"
      ],
      "metadata": {
        "id": "wjJ9KZvyVUX7"
      }
    },
    {
      "cell_type": "markdown",
      "source": [
        "result[0][-2] --> accesses the text detected by OCR from the first element of the result list. The text is typically stored in the second-to-last element of the tuple returned by EasyOCR's readtext() function."
      ],
      "metadata": {
        "id": "dCvxOJw0WtRY"
      }
    },
    {
      "cell_type": "code",
      "source": [
        "text = result[0][-2]"
      ],
      "metadata": {
        "id": "FNZuaitaWr_r"
      },
      "execution_count": null,
      "outputs": []
    },
    {
      "cell_type": "markdown",
      "source": [
        "**Step 2:** Defining Font and Annotation Position"
      ],
      "metadata": {
        "id": "hOPMkuSwWv8Y"
      }
    },
    {
      "cell_type": "markdown",
      "source": [
        "cv2.FONT_HERSHEY_SIMPLEX --> defines the font type for displaying text."
      ],
      "metadata": {
        "id": "Tj8kOIuhW4vF"
      }
    },
    {
      "cell_type": "code",
      "source": [
        "font = cv2.FONT_HERSHEY_SIMPLEX"
      ],
      "metadata": {
        "id": "2pkNw0LgWzkr"
      },
      "execution_count": null,
      "outputs": []
    },
    {
      "cell_type": "markdown",
      "source": [
        "**Step 3:** Drawing Text on Image"
      ],
      "metadata": {
        "id": "JvSU3CXrW7Zn"
      }
    },
    {
      "cell_type": "markdown",
      "source": [
        "cv2.putText() --> is used to write text onto the image.\n",
        "\n",
        "text --> specifies the text to be displayed.\n",
        "\n",
        "org --> specifies the coordinates where the text will be placed. Here, it's derived from the coordinates of the detected contour (approx), shifted down by 60 pixels from the top.\n",
        "\n",
        "fontFace --> specifies the font type.\n",
        "\n",
        "fontScale --> specifies the font scale.\n",
        "\n",
        "color --> specifies the color of the text. It's represented as BGR format (0, 255, 0) for green.\n",
        "\n",
        "thickness --> specifies the thickness of the text.\n",
        "\n",
        "lineType --> specifies the type of line used (in this case, cv2.LINE_AA specifies anti-aliased lines).\n"
      ],
      "metadata": {
        "id": "2rCYfyhFVdhu"
      }
    },
    {
      "cell_type": "code",
      "source": [
        "res = cv2.putText(img, text=text, org=(approx[0][0][0], approx[1][0][1]+60), fontFace=font, fontScale=1, color=(0,255,0), thickness=2, lineType=cv2.LINE_AA)"
      ],
      "metadata": {
        "id": "Y4QrPsEVYT7w"
      },
      "execution_count": null,
      "outputs": []
    },
    {
      "cell_type": "markdown",
      "source": [
        "**Step 4:** Drawing Rectangle around Detected Region"
      ],
      "metadata": {
        "id": "ciIppbvugv_Q"
      }
    },
    {
      "cell_type": "markdown",
      "source": [
        "cv2.rectangle() --> draws a rectangle around the detected region.\n",
        "\n",
        "tuple(approx[0][0]) and tuple(approx[2][0]) --> define the top-left and bottom-right corners of the rectangle, respectively, based on the coordinates of the detected contour (approx).\n",
        "\n",
        "(0,255,0) --> specifies the color of the rectangle (green).\n",
        "\n",
        "3 specifies the thickness of the rectangle's border."
      ],
      "metadata": {
        "id": "IyEz91J2g1j2"
      }
    },
    {
      "cell_type": "code",
      "source": [
        "res = cv2.rectangle(img, tuple(approx[0][0]), tuple(approx[2][0]), (0,255,0),3)"
      ],
      "metadata": {
        "id": "geSDU9eAg_0L"
      },
      "execution_count": null,
      "outputs": []
    },
    {
      "cell_type": "markdown",
      "source": [
        "**Step 5:** Displaying the Resulting Image"
      ],
      "metadata": {
        "id": "lbmIyIYShEoK"
      }
    },
    {
      "cell_type": "code",
      "source": [],
      "metadata": {
        "id": "geubdY_fhJye"
      },
      "execution_count": null,
      "outputs": []
    }
  ]
}