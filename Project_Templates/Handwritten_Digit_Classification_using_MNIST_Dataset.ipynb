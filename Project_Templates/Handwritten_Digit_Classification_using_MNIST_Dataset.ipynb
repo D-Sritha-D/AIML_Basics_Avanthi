{
  "nbformat": 4,
  "nbformat_minor": 0,
  "metadata": {
    "colab": {
      "provenance": []
    },
    "kernelspec": {
      "name": "python3",
      "display_name": "Python 3"
    },
    "language_info": {
      "name": "python"
    }
  },
  "cells": [
    {
      "cell_type": "markdown",
      "source": [
        "# **Digit Classification Using MNIST Dataset**"
      ],
      "metadata": {
        "id": "SRwJFmR6ZCcZ"
      }
    },
    {
      "cell_type": "markdown",
      "source": [
        "### **Basic Overview:**\n",
        "\n",
        "Digit classification using the MNIST dataset is a common task in machine learning and computer vision, especially for beginners. The MNIST dataset consists of 28x28 pixel grayscale images of handwritten digits (0 through 9).\n",
        "\n",
        "**Data Collection:** The MNIST dataset is readily available and widely used. It consists of a training set of 60,000 examples and a test set of 10,000 examples. Each image is labeled with the corresponding digit it represents.\n",
        "\n",
        "**Data Preprocessing:** Normalize the pixel values: The pixel values of the images are usually normalized to a range between 0 and 1 by dividing each pixel value by 255 (since the pixel values range from 0 to 255).\n",
        "Flatten the images: Each 28x28 pixel image is flattened into a 1D array of 784 elements.\n",
        "\n",
        "**Model Building:** Choose a machine learning or deep learning model architecture\n",
        "\n",
        "**Training the Model:** Split the dataset into training and validation sets (or perform cross-validation). Train the chosen model on the training set. Use techniques such as stochastic gradient descent (SGD), Adam optimizer, or other optimization algorithms to minimize the loss function.\n",
        "\n",
        "**Model Evaluation**: Evaluate the trained model on the test set to assess its performance. Common evaluation metrics include accuracy, precision, recall, and F1 score. Analyze the confusion matrix to understand which digits are being misclassified more often.\n",
        "\n",
        "**Hyperparameter Tuning:** Adjust the hyperparameters of the model to optimize its performance. Common hyperparameters include learning rate, batch size, number of layers, number of neurons per layer, activation functions, etc.\n",
        "\n",
        "**Deployment:** Once satisfied with the model's performance, deploy it for digit classification tasks. Deployment can be in various forms such as a web application, mobile application, or integrated into other systems."
      ],
      "metadata": {
        "id": "M6rgUOY1XE_v"
      }
    },
    {
      "cell_type": "markdown",
      "source": [
        "# **Data Preprocessing**"
      ],
      "metadata": {
        "id": "oELADEmpZVvk"
      }
    },
    {
      "cell_type": "markdown",
      "source": [
        "**Step 1:** Import the required libraries"
      ],
      "metadata": {
        "id": "TlCGFhGZZJ2d"
      }
    },
    {
      "cell_type": "code",
      "source": [],
      "metadata": {
        "id": "c0irbAmtX3V6"
      },
      "execution_count": null,
      "outputs": []
    },
    {
      "cell_type": "markdown",
      "source": [
        "**Step 2:** Import the data as (X_train, y_train), (X_test, y_test) = ?"
      ],
      "metadata": {
        "id": "GzQDQSWxZZVw"
      }
    },
    {
      "cell_type": "code",
      "execution_count": null,
      "metadata": {
        "id": "oth-drS6W-te"
      },
      "outputs": [],
      "source": []
    },
    {
      "cell_type": "markdown",
      "source": [
        "**Step 3:** Calculate the length of X_train and X_test"
      ],
      "metadata": {
        "id": "L8-YKZdXaE1k"
      }
    },
    {
      "cell_type": "code",
      "source": [],
      "metadata": {
        "id": "IJa1JKYeaJcN"
      },
      "execution_count": null,
      "outputs": []
    },
    {
      "cell_type": "markdown",
      "source": [
        "**Step 4:** Write code to print the shape of each image in the dataset (Answer should be 28*28)"
      ],
      "metadata": {
        "id": "NkgCQTzxaJk-"
      }
    },
    {
      "cell_type": "code",
      "source": [],
      "metadata": {
        "id": "FHiE-jOaaTxp"
      },
      "execution_count": null,
      "outputs": []
    },
    {
      "cell_type": "markdown",
      "source": [
        "**Step 5:** Plot one Image in the X_train Dataset"
      ],
      "metadata": {
        "id": "M6wFSqztaT94"
      }
    },
    {
      "cell_type": "code",
      "source": [],
      "metadata": {
        "id": "PRaxUHQrapan"
      },
      "execution_count": null,
      "outputs": []
    },
    {
      "cell_type": "markdown",
      "source": [
        "**Step 6:** What is the difference between the X_train and y_train outputs?"
      ],
      "metadata": {
        "id": "FBVs93GZaplW"
      }
    },
    {
      "cell_type": "code",
      "source": [],
      "metadata": {
        "id": "9jhZHvWGa0-p"
      },
      "execution_count": null,
      "outputs": []
    },
    {
      "cell_type": "markdown",
      "source": [
        "**Step 7:** Scale your X data (Divide the input data by 255)\n",
        "\n",
        "> Ex: (X_train / 255) and (X_test / 255)"
      ],
      "metadata": {
        "id": "ZrtLgZQOd75g"
      }
    },
    {
      "cell_type": "code",
      "source": [],
      "metadata": {
        "id": "fLZ1YJ2id8JJ"
      },
      "execution_count": null,
      "outputs": []
    },
    {
      "cell_type": "markdown",
      "source": [
        "**Step 8:** Flatten the X_train\n",
        "\n",
        "> Initially the shape of the X_train is (60000, 28, 28). By the process of flattening you should get the output as (60000, 784)"
      ],
      "metadata": {
        "id": "qhuh6dnma1J3"
      }
    },
    {
      "cell_type": "code",
      "source": [],
      "metadata": {
        "id": "GpiI6ZkIa8IS"
      },
      "execution_count": null,
      "outputs": []
    },
    {
      "cell_type": "markdown",
      "source": [
        "**Step 9:** Flatten the X_test as well"
      ],
      "metadata": {
        "id": "AsG5oe37a8Wg"
      }
    },
    {
      "cell_type": "code",
      "source": [],
      "metadata": {
        "id": "DGICh4cqboA4"
      },
      "execution_count": null,
      "outputs": []
    },
    {
      "cell_type": "markdown",
      "source": [
        "# **Model Building**"
      ],
      "metadata": {
        "id": "c5AJ_8GxbvPD"
      }
    },
    {
      "cell_type": "markdown",
      "source": [
        "**Step 1:** Using Keras.Sequential, build a Neural Network with 1 layer.\n",
        "\n",
        "Features the Neural Network should have:\n",
        "*   Number of Neurons in your layer = 10 (Each to represent one digit)\n",
        "*   Input Shape = shape of your flattened X_train Dataset\n",
        "*   Activation Function = Sigmoid Function\n",
        "\n"
      ],
      "metadata": {
        "id": "ZAudgo-IboKH"
      }
    },
    {
      "cell_type": "code",
      "source": [],
      "metadata": {
        "id": "gDvrrKEab9yr"
      },
      "execution_count": null,
      "outputs": []
    },
    {
      "cell_type": "markdown",
      "source": [
        "**Step 2:** Compile your model\n",
        "\n",
        "Features the compilation should have:\n",
        "*   Optimizer = Adam Optimizer\n",
        "*   Loss Function = Sparse Categorical Crossentropy\n",
        "*   Metrics = Accuracy\n",
        "\n"
      ],
      "metadata": {
        "id": "RKZuOf75b9_P"
      }
    },
    {
      "cell_type": "code",
      "source": [],
      "metadata": {
        "id": "GbztEP5xcuV5"
      },
      "execution_count": null,
      "outputs": []
    },
    {
      "cell_type": "markdown",
      "source": [
        "**Step 3:** Train the model using .fit() function\n",
        "\n",
        "> Into the fit function you have to pass 3 things:\n",
        "*   Flattened X_train\n",
        "*   y_train\n",
        "*   Epochs = 20"
      ],
      "metadata": {
        "id": "ceCA6WbycufM"
      }
    },
    {
      "cell_type": "code",
      "source": [],
      "metadata": {
        "id": "qS0t_NhfdndC"
      },
      "execution_count": null,
      "outputs": []
    },
    {
      "cell_type": "markdown",
      "source": [
        "# **Model Evaluation**"
      ],
      "metadata": {
        "id": "t3YBe7Qrec5w"
      }
    },
    {
      "cell_type": "markdown",
      "source": [
        "**Step 1:** Evaluate your model using *model.evaluate()*"
      ],
      "metadata": {
        "id": "FFz1qRhCegLw"
      }
    },
    {
      "cell_type": "code",
      "source": [],
      "metadata": {
        "id": "k831ySJkeudY"
      },
      "execution_count": null,
      "outputs": []
    },
    {
      "cell_type": "markdown",
      "source": [
        "**Step 2:** Make predictions using *model.predict()*"
      ],
      "metadata": {
        "id": "Ufj-DUeKeum-"
      }
    },
    {
      "cell_type": "code",
      "source": [],
      "metadata": {
        "id": "LOfn4j6CezMX"
      },
      "execution_count": null,
      "outputs": []
    },
    {
      "cell_type": "markdown",
      "source": [
        "**Step 3:** Find the max value of the predicted elements\n",
        "\n",
        ">*Hint:* np.argmax finds a maximum element from an array and returns the index of it"
      ],
      "metadata": {
        "id": "7jrGrhLFezUv"
      }
    },
    {
      "cell_type": "code",
      "source": [],
      "metadata": {
        "id": "5w3_fpnXfeSq"
      },
      "execution_count": null,
      "outputs": []
    },
    {
      "cell_type": "markdown",
      "source": [
        "**Step 4:** Print the first 5 predictions and the first 5 y_test.\n",
        "\n",
        "> You should get the values as same"
      ],
      "metadata": {
        "id": "Yp6awyQbf5zH"
      }
    },
    {
      "cell_type": "code",
      "source": [],
      "metadata": {
        "id": "6MRF6Mdxf_M7"
      },
      "execution_count": null,
      "outputs": []
    },
    {
      "cell_type": "code",
      "source": [],
      "metadata": {
        "id": "Ej14d7H5gCPQ"
      },
      "execution_count": null,
      "outputs": []
    },
    {
      "cell_type": "markdown",
      "source": [
        "**Step 5:** Create a confusion matrix for the predictions vs. actual values\n",
        "\n",
        "> Refer to your previous classes for construction of this."
      ],
      "metadata": {
        "id": "aQuQDPFVfenw"
      }
    },
    {
      "cell_type": "code",
      "source": [],
      "metadata": {
        "id": "EqHgxi_xfxgR"
      },
      "execution_count": null,
      "outputs": []
    },
    {
      "cell_type": "markdown",
      "source": [
        "# **Improving Model Accuracy**"
      ],
      "metadata": {
        "id": "wO02ICTRfxrq"
      }
    },
    {
      "cell_type": "markdown",
      "source": [
        "**Step 1:** Add hidden layer to you already existing model\n",
        "\n",
        "*Did the accuracy increase or not?*"
      ],
      "metadata": {
        "id": "OpGM5YCagXNK"
      }
    },
    {
      "cell_type": "code",
      "source": [],
      "metadata": {
        "id": "JpsH0ZUkgbue"
      },
      "execution_count": null,
      "outputs": []
    },
    {
      "cell_type": "markdown",
      "source": [
        "**Step 2:** Evaluate the new model with *model.evaluate()*"
      ],
      "metadata": {
        "id": "xzEc5AaBgb4Y"
      }
    },
    {
      "cell_type": "code",
      "source": [],
      "metadata": {
        "id": "LZMtNesYg-RJ"
      },
      "execution_count": null,
      "outputs": []
    },
    {
      "cell_type": "markdown",
      "source": [
        "**Step 3:** Plot a confusion matrix for the new model"
      ],
      "metadata": {
        "id": "qDt0D8OOg-Zc"
      }
    },
    {
      "cell_type": "code",
      "source": [],
      "metadata": {
        "id": "KUzk6JiqhDcE"
      },
      "execution_count": null,
      "outputs": []
    },
    {
      "cell_type": "markdown",
      "source": [
        "# **Building Model with Flattened Layer**"
      ],
      "metadata": {
        "id": "T7SaF3_YhMIU"
      }
    },
    {
      "cell_type": "markdown",
      "source": [
        "**Step 1:** Rebuild your model adding a flattened layer"
      ],
      "metadata": {
        "id": "Vnk2eSwThPeB"
      }
    },
    {
      "cell_type": "code",
      "source": [],
      "metadata": {
        "id": "T1-WLnhkhXgW"
      },
      "execution_count": null,
      "outputs": []
    },
    {
      "cell_type": "markdown",
      "source": [
        "**Step 2:** Evaluate the model again. What are the changes you see?"
      ],
      "metadata": {
        "id": "8cM11lyGhYII"
      }
    },
    {
      "cell_type": "code",
      "source": [],
      "metadata": {
        "id": "WBJf696mhZCG"
      },
      "execution_count": null,
      "outputs": []
    }
  ]
}