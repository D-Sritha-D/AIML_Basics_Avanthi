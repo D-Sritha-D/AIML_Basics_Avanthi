{
  "nbformat": 4,
  "nbformat_minor": 0,
  "metadata": {
    "colab": {
      "provenance": []
    },
    "kernelspec": {
      "name": "python3",
      "display_name": "Python 3"
    },
    "language_info": {
      "name": "python"
    }
  },
  "cells": [
    {
      "cell_type": "markdown",
      "source": [
        "# **Credit Card Fraud Detection**"
      ],
      "metadata": {
        "id": "eWum0NU4CVPc"
      }
    },
    {
      "cell_type": "markdown",
      "source": [
        "**Abstract:**\n",
        "\n",
        "\n",
        "Credit card fraud is a significant concern in financial transactions, posing substantial risks to both consumers and financial institutions. With the increasing sophistication of fraudulent activities, there is a pressing need for robust detection mechanisms. In this study, we explore the application of logistic regression, a classical statistical technique, for credit card fraud detection. Leveraging transactional data and features indicative of fraudulent behavior, logistic regression models offer a promising approach to identifying fraudulent transactions efficiently and accurately. Through this research, we aim to contribute to the ongoing efforts in enhancing fraud detection systems, thereby safeguarding the integrity of financial transactions and bolstering consumer trust in electronic payment systems."
      ],
      "metadata": {
        "id": "PT4AbqG2OBtN"
      }
    },
    {
      "cell_type": "markdown",
      "source": [
        "**Introduction:**\n",
        "\n",
        "\n",
        "Credit card fraud has emerged as a formidable challenge in the realm of electronic transactions, posing substantial financial losses and reputational damage to businesses and consumers alike. As technology advances, so do the methods employed by fraudsters, necessitating continuous innovation in fraud detection techniques. Traditional approaches, while effective to some extent, often struggle to keep pace with the evolving nature of fraudulent activities.\n",
        "\n",
        "In recent years, machine learning algorithms have gained traction as powerful tools for detecting fraudulent transactions. Logistic regression, a fundamental technique in the realm of supervised learning, offers a computationally efficient and interpretable solution for binary classification problems, making it particularly well-suited for fraud detection tasks.\n",
        "\n",
        "In this study, we delve into the application of logistic regression models for credit card fraud detection. By leveraging historical transactional data and engineered features indicative of fraudulent behavior, logistic regression models can learn to discern between legitimate and fraudulent transactions. The simplicity and interpretability of logistic regression models render them accessible to practitioners and analysts, facilitating the integration of fraud detection mechanisms into existing financial systems.\n",
        "\n",
        "Through empirical evaluation and analysis, we seek to elucidate the efficacy and performance characteristics of logistic regression models in identifying fraudulent transactions. By shedding light on the strengths and limitations of logistic regression-based approaches, this research endeavors to inform the development of more robust and resilient fraud detection systems. Ultimately, the goal is to bolster consumer confidence in electronic payment systems and mitigate the adverse impacts of credit card fraud on businesses and financial institutions."
      ],
      "metadata": {
        "id": "6PvroZjyOEq6"
      }
    },
    {
      "cell_type": "markdown",
      "source": [
        "**Step 1**: Import the dependancies"
      ],
      "metadata": {
        "id": "Ou9knwYFI-8_"
      }
    },
    {
      "cell_type": "code",
      "source": [],
      "metadata": {
        "id": "R4hR7SM4JDdO"
      },
      "execution_count": null,
      "outputs": []
    },
    {
      "cell_type": "markdown",
      "source": [
        "**Step 2:** Load the Dataset to Pandas Dataframe"
      ],
      "metadata": {
        "id": "WIWLN7ArJDmF"
      }
    },
    {
      "cell_type": "code",
      "source": [],
      "metadata": {
        "id": "JYdiGCf4JH6S"
      },
      "execution_count": null,
      "outputs": []
    },
    {
      "cell_type": "markdown",
      "source": [
        "**Step 3:** Print the first 5 rows of the Dataset"
      ],
      "metadata": {
        "id": "KmUxUL_dJIDQ"
      }
    },
    {
      "cell_type": "code",
      "source": [],
      "metadata": {
        "id": "mF_Qo-nBJMo3"
      },
      "execution_count": null,
      "outputs": []
    },
    {
      "cell_type": "markdown",
      "source": [
        "**Step 4:** Print the last 5 rows of the Dataset"
      ],
      "metadata": {
        "id": "FYDflbd9JMx1"
      }
    },
    {
      "cell_type": "code",
      "source": [],
      "metadata": {
        "id": "TAdTHawIJRZx"
      },
      "execution_count": null,
      "outputs": []
    },
    {
      "cell_type": "markdown",
      "source": [
        "**Step 5**: Print the dataset information"
      ],
      "metadata": {
        "id": "06cN2wSUJRhD"
      }
    },
    {
      "cell_type": "code",
      "source": [],
      "metadata": {
        "id": "Wjpvy3fcJWVh"
      },
      "execution_count": null,
      "outputs": []
    },
    {
      "cell_type": "markdown",
      "source": [
        "**Step 6:** Check the number of missing values in each column"
      ],
      "metadata": {
        "id": "5awi9_swJWds"
      }
    },
    {
      "cell_type": "code",
      "source": [],
      "metadata": {
        "id": "uBTj21CfJcOu"
      },
      "execution_count": null,
      "outputs": []
    },
    {
      "cell_type": "markdown",
      "source": [
        "**Step 7:** In the training dataset, how many real and fake transactions are there?"
      ],
      "metadata": {
        "id": "T5IwMTsyJcX8"
      }
    },
    {
      "cell_type": "code",
      "source": [],
      "metadata": {
        "id": "LAr0z0GGJjfQ"
      },
      "execution_count": null,
      "outputs": []
    },
    {
      "cell_type": "markdown",
      "source": [
        "If you observe the data, there are too many legit transactions (284315) and only a few fraudulent transactions (492) This is a highly biased dataset. Hence you must seperate the true and false transactions."
      ],
      "metadata": {
        "id": "iVqaTKg5JjnG"
      }
    },
    {
      "cell_type": "markdown",
      "source": [
        "**Step 8:** Seperate the real transactions into (legit variable) and the false into (fraud variable)"
      ],
      "metadata": {
        "id": "g5JZwUeyKaGF"
      }
    },
    {
      "cell_type": "code",
      "source": [],
      "metadata": {
        "id": "aJCImlkQKhzV"
      },
      "execution_count": null,
      "outputs": []
    },
    {
      "cell_type": "markdown",
      "source": [
        "**Step 9:** Print the shape of the above 2 variables"
      ],
      "metadata": {
        "id": "G5tgB8YdKh61"
      }
    },
    {
      "cell_type": "code",
      "source": [],
      "metadata": {
        "id": "JNu5EbGKKmPY"
      },
      "execution_count": null,
      "outputs": []
    },
    {
      "cell_type": "markdown",
      "source": [
        "**Step 10:** Find the statistical meausres of the false and true data (describe the data)"
      ],
      "metadata": {
        "id": "ADHmahF8KmYg"
      }
    },
    {
      "cell_type": "code",
      "source": [],
      "metadata": {
        "id": "B1uK1TiuKt-2"
      },
      "execution_count": null,
      "outputs": []
    },
    {
      "cell_type": "code",
      "source": [],
      "metadata": {
        "id": "MYJAHur0LAlA"
      },
      "execution_count": null,
      "outputs": []
    },
    {
      "cell_type": "markdown",
      "source": [
        "**Step 11:** Compare the values for the above 2 clases (legit and fraudulent transactions) -- use groupby function here"
      ],
      "metadata": {
        "id": "63_s6loxKuHS"
      }
    },
    {
      "cell_type": "code",
      "source": [],
      "metadata": {
        "id": "_M-jAXl6LLRI"
      },
      "execution_count": null,
      "outputs": []
    },
    {
      "cell_type": "markdown",
      "source": [
        "**Step 12:** Build a sample dataset containing similar distribution of normal trasactions and fraudulent transactions ---> basically make a dataset wtih 492 of each type."
      ],
      "metadata": {
        "id": "r4GhRu2XLLbQ"
      }
    },
    {
      "cell_type": "code",
      "source": [],
      "metadata": {
        "id": "DZq6b5SKLZzG"
      },
      "execution_count": null,
      "outputs": []
    },
    {
      "cell_type": "markdown",
      "source": [
        "**Step 13:** Join the legit and fraud 492 datasets ---> use concat"
      ],
      "metadata": {
        "id": "LRjpLW4PLZ7z"
      }
    },
    {
      "cell_type": "code",
      "source": [],
      "metadata": {
        "id": "OUbi5XxrLofA"
      },
      "execution_count": null,
      "outputs": []
    },
    {
      "cell_type": "markdown",
      "source": [
        "**Step 14:** Print the head and tail of new dataset"
      ],
      "metadata": {
        "id": "LA3mNimZLonl"
      }
    },
    {
      "cell_type": "code",
      "source": [],
      "metadata": {
        "id": "2Mv7lJHBL12-"
      },
      "execution_count": null,
      "outputs": []
    },
    {
      "cell_type": "code",
      "source": [],
      "metadata": {
        "id": "URAMEh7AL27Q"
      },
      "execution_count": null,
      "outputs": []
    },
    {
      "cell_type": "markdown",
      "source": [
        "**Step 15:** Split the data into X and y"
      ],
      "metadata": {
        "id": "dykSQLnUL1_7"
      }
    },
    {
      "cell_type": "code",
      "source": [],
      "metadata": {
        "id": "Jq8sflW8MKk1"
      },
      "execution_count": null,
      "outputs": []
    },
    {
      "cell_type": "markdown",
      "source": [
        "**Step 16:** Split into training and testing data using train_test_split"
      ],
      "metadata": {
        "id": "sH1uwbX-MKxo"
      }
    },
    {
      "cell_type": "code",
      "source": [],
      "metadata": {
        "id": "UgchD7UpMUHS"
      },
      "execution_count": null,
      "outputs": []
    },
    {
      "cell_type": "markdown",
      "source": [
        "**Step 17:** Print the shape of each of the variables mentioned in step 16."
      ],
      "metadata": {
        "id": "_snbM6K4MUPW"
      }
    },
    {
      "cell_type": "code",
      "source": [],
      "metadata": {
        "id": "FwZWm-8yMdyN"
      },
      "execution_count": null,
      "outputs": []
    },
    {
      "cell_type": "markdown",
      "source": [
        "**Step 18:** Create a Logistic Regression Model"
      ],
      "metadata": {
        "id": "pKG4F0ukMd5F"
      }
    },
    {
      "cell_type": "code",
      "source": [],
      "metadata": {
        "id": "Maq2SCI0Mnm8"
      },
      "execution_count": null,
      "outputs": []
    },
    {
      "cell_type": "markdown",
      "source": [
        "**Step 19:** Train the Logistic Regression Model"
      ],
      "metadata": {
        "id": "f8um94J6Mnwn"
      }
    },
    {
      "cell_type": "code",
      "source": [],
      "metadata": {
        "id": "EaHku3jIMtst"
      },
      "execution_count": null,
      "outputs": []
    },
    {
      "cell_type": "markdown",
      "source": [
        "**Step 20:** Make predictions using the Model"
      ],
      "metadata": {
        "id": "iqbV-h8UMt0E"
      }
    },
    {
      "cell_type": "code",
      "source": [],
      "metadata": {
        "id": "9Lvupmn7M0Mk"
      },
      "execution_count": null,
      "outputs": []
    },
    {
      "cell_type": "markdown",
      "source": [
        "**Step 21:** Find the accruacy of the Model on the training data"
      ],
      "metadata": {
        "id": "b4HiEShtM0Uc"
      }
    },
    {
      "cell_type": "code",
      "source": [],
      "metadata": {
        "id": "5Kg3uWxoM4dV"
      },
      "execution_count": null,
      "outputs": []
    },
    {
      "cell_type": "markdown",
      "source": [
        "**Step 22**: Find the accuracy of the Model on the testing data"
      ],
      "metadata": {
        "id": "ZvI3j_C5M4ms"
      }
    },
    {
      "cell_type": "code",
      "source": [],
      "metadata": {
        "id": "cCpgIlhMNCiO"
      },
      "execution_count": null,
      "outputs": []
    },
    {
      "cell_type": "markdown",
      "source": [
        "**Step 23:** Create a dataset on your own for prediction and predict the values using your trained model."
      ],
      "metadata": {
        "id": "yJ9j2FFWNCpZ"
      }
    },
    {
      "cell_type": "code",
      "source": [],
      "metadata": {
        "id": "cVb8aQz9NTjX"
      },
      "execution_count": null,
      "outputs": []
    },
    {
      "cell_type": "markdown",
      "source": [
        "Congratulations you completed 75% of your Project. Let ma'am know once you are down till here. Now it's time to visualize your insights on PowerBI."
      ],
      "metadata": {
        "id": "OC5yyksvNT7b"
      }
    }
  ]
}