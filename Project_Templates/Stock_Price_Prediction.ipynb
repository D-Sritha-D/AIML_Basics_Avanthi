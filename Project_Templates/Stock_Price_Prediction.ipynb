{
  "nbformat": 4,
  "nbformat_minor": 0,
  "metadata": {
    "colab": {
      "provenance": []
    },
    "kernelspec": {
      "name": "python3",
      "display_name": "Python 3"
    },
    "language_info": {
      "name": "python"
    }
  },
  "cells": [
    {
      "cell_type": "markdown",
      "source": [
        "# **Stock Price Prediction using KNN**"
      ],
      "metadata": {
        "id": "kDcMnroYPTvR"
      }
    },
    {
      "cell_type": "markdown",
      "source": [
        "**Abstract:**\n",
        "\n",
        "Stock price prediction remains a critical challenge in financial markets due to its inherent complexity and the multitude of factors influencing market dynamics. Machine learning techniques offer promising avenues for modeling and forecasting stock prices, with the k-nearest neighbors (KNN) algorithm emerging as a popular choice in this domain. This study explores the application of KNN in stock price prediction, leveraging historical price data and relevant features to make informed predictions about future price movements. Through empirical analysis and evaluation, we assess the efficacy and performance of KNN-based models in capturing the intricate patterns inherent in stock price fluctuations. By shedding light on the capabilities and limitations of KNN in stock price prediction, this research aims to contribute to the ongoing discourse surrounding the application of machine learning in financial forecasting."
      ],
      "metadata": {
        "id": "VXdwoSc7PXpE"
      }
    },
    {
      "cell_type": "markdown",
      "source": [
        "**Introduction:**\n",
        "\n",
        "The prediction of stock prices has long been a focal point of research and speculation in financial markets. Investors, traders, and financial analysts seek to anticipate future price movements to make informed decisions and mitigate risks. However, the dynamic and stochastic nature of financial markets renders stock price prediction a formidable challenge, fraught with uncertainty and volatility.\n",
        "\n",
        "In recent years, machine learning algorithms have gained prominence as valuable tools for modeling and forecasting stock prices. Among these algorithms, the k-nearest neighbors (KNN) algorithm stands out for its simplicity and intuitive appeal. KNN operates on the principle of proximity, wherein it predicts the target variable based on the characteristics of its nearest neighbors in the feature space.\n",
        "\n",
        "This study explores the application of KNN in stock price prediction, aiming to harness the algorithm's ability to capture complex patterns and relationships in financial data. By leveraging historical price data, along with relevant features such as trading volume, technical indicators, and market sentiment, KNN-based models seek to uncover underlying trends and tendencies in stock price movements.\n",
        "\n",
        "The appeal of KNN lies in its non-parametric nature and flexibility, allowing it to adapt to diverse data distributions and patterns. However, the effectiveness of KNN in stock price prediction hinges on various factors, including feature selection, model hyperparameters, and the choice of distance metric.\n",
        "\n",
        "Through empirical analysis and evaluation using real-world stock market data, we aim to elucidate the strengths and limitations of KNN-based models in stock price prediction. By comparing KNN with other machine learning techniques and traditional forecasting methods, we seek to provide insights into its performance characteristics and applicability in practical investment scenarios. Ultimately, the goal is to advance our understanding of machine learning-based approaches to stock price prediction and empower market participants with enhanced tools for decision-making and risk management."
      ],
      "metadata": {
        "id": "jbuhdsBKPuQ2"
      }
    },
    {
      "cell_type": "markdown",
      "source": [
        "### **Data Collection and Preprocessing**"
      ],
      "metadata": {
        "id": "-wec2f_lP2vm"
      }
    },
    {
      "cell_type": "markdown",
      "source": [
        "**Step 1:** Import the necessary libraries"
      ],
      "metadata": {
        "id": "wKuBldILP1PS"
      }
    },
    {
      "cell_type": "code",
      "source": [],
      "metadata": {
        "id": "RjIp3Uq3P_K2"
      },
      "execution_count": null,
      "outputs": []
    },
    {
      "cell_type": "markdown",
      "source": [
        "**Step 2:** Install quandl ( It is a website which is used to find the historical data of stocks. We will be focusing on TATAGlobal Stocks)"
      ],
      "metadata": {
        "id": "6eJfqG1aP_pC"
      }
    },
    {
      "cell_type": "code",
      "execution_count": null,
      "metadata": {
        "id": "hDhL_4FePRJy"
      },
      "outputs": [],
      "source": []
    },
    {
      "cell_type": "markdown",
      "source": [
        "**Step 3:** Load the TATAGlobals stocks"
      ],
      "metadata": {
        "id": "uj2RnuSEQGcb"
      }
    },
    {
      "cell_type": "code",
      "source": [],
      "metadata": {
        "id": "CnpLIKklQVk3"
      },
      "execution_count": null,
      "outputs": []
    },
    {
      "cell_type": "markdown",
      "source": [
        "**Step 4:** Print the first 10 and last 10 elements of the dataset"
      ],
      "metadata": {
        "id": "vt0fJzxHQVv8"
      }
    },
    {
      "cell_type": "code",
      "source": [],
      "metadata": {
        "id": "hovsTl77QbPM"
      },
      "execution_count": null,
      "outputs": []
    },
    {
      "cell_type": "markdown",
      "source": [
        "**Step 5:** Plot the closing price.per year"
      ],
      "metadata": {
        "id": "DtwmvuvLQba_"
      }
    },
    {
      "cell_type": "code",
      "source": [],
      "metadata": {
        "id": "byZ9H8ORQnCc"
      },
      "execution_count": null,
      "outputs": []
    },
    {
      "cell_type": "markdown",
      "source": [
        "**Step 6:** Create 2 new columns in the data frame.\n",
        "\n",
        "1. Column 1 = Open - close\n",
        "2. Column 2 = High - Low"
      ],
      "metadata": {
        "id": "hQ8498JkQnK5"
      }
    },
    {
      "cell_type": "code",
      "source": [],
      "metadata": {
        "id": "UKuSuQw2QuPd"
      },
      "execution_count": null,
      "outputs": []
    },
    {
      "cell_type": "markdown",
      "source": [
        "**Step 7:** Drop all the na values"
      ],
      "metadata": {
        "id": "iSGI6vlzQ15H"
      }
    },
    {
      "cell_type": "code",
      "source": [],
      "metadata": {
        "id": "Yu5IQH84Q47C"
      },
      "execution_count": null,
      "outputs": []
    },
    {
      "cell_type": "markdown",
      "source": [
        "**Step 8:** Define the X and y for the data"
      ],
      "metadata": {
        "id": "7PVYLYQ2Q5Db"
      }
    },
    {
      "cell_type": "code",
      "source": [],
      "metadata": {
        "id": "GCPKVHQyRCJu"
      },
      "execution_count": null,
      "outputs": []
    },
    {
      "cell_type": "markdown",
      "source": [
        "For the y data, the main goal is to store +1 for the buy signal and -1 for the sell signal."
      ],
      "metadata": {
        "id": "wEtpemQ0Rf8D"
      }
    },
    {
      "cell_type": "code",
      "source": [],
      "metadata": {
        "id": "Cw3shP8TREHi"
      },
      "execution_count": null,
      "outputs": []
    },
    {
      "cell_type": "markdown",
      "source": [
        "**Step 9:** Split the data for train and test"
      ],
      "metadata": {
        "id": "vb8J-y46RqX0"
      }
    },
    {
      "cell_type": "code",
      "source": [],
      "metadata": {
        "id": "k2FEQgSiRv8b"
      },
      "execution_count": null,
      "outputs": []
    },
    {
      "cell_type": "markdown",
      "source": [
        "# **Building the Model**"
      ],
      "metadata": {
        "id": "x4vPnLY_R0L8"
      }
    },
    {
      "cell_type": "markdown",
      "source": [
        "**Step 1:** Build the KNN classifier object."
      ],
      "metadata": {
        "id": "hA0Yty2fRCTt"
      }
    },
    {
      "cell_type": "code",
      "source": [],
      "metadata": {
        "id": "iakPKAZrR8S5"
      },
      "execution_count": null,
      "outputs": []
    },
    {
      "cell_type": "markdown",
      "source": [
        "**Step 2:** Use grid search to find the most optimal parameter."
      ],
      "metadata": {
        "id": "voDOg-KJR8dQ"
      }
    },
    {
      "cell_type": "code",
      "source": [],
      "metadata": {
        "id": "_xOx3wkRSGK5"
      },
      "execution_count": null,
      "outputs": []
    },
    {
      "cell_type": "markdown",
      "source": [
        "**Step 3:** Train the model"
      ],
      "metadata": {
        "id": "9Axp35CBSGUF"
      }
    },
    {
      "cell_type": "code",
      "source": [],
      "metadata": {
        "id": "DaRGptigSJCc"
      },
      "execution_count": null,
      "outputs": []
    },
    {
      "cell_type": "markdown",
      "source": [
        "# **Evaluating the Model**"
      ],
      "metadata": {
        "id": "TpTQJ0NnSLdI"
      }
    },
    {
      "cell_type": "markdown",
      "source": [
        "**Step 1:** Find the training accuracy of the model"
      ],
      "metadata": {
        "id": "ApVzpMIMSJM9"
      }
    },
    {
      "cell_type": "code",
      "source": [],
      "metadata": {
        "id": "sWqTiM1GSQi4"
      },
      "execution_count": null,
      "outputs": []
    },
    {
      "cell_type": "markdown",
      "source": [
        "**Step 2**: Find the testing accuracy of the model"
      ],
      "metadata": {
        "id": "sSAg9_LySQrv"
      }
    },
    {
      "cell_type": "code",
      "source": [],
      "metadata": {
        "id": "A_sykYmkSYHL"
      },
      "execution_count": null,
      "outputs": []
    },
    {
      "cell_type": "markdown",
      "source": [
        "**Step 3:** Make predictions using the model on you X_test"
      ],
      "metadata": {
        "id": "dLTWxJLtSYR2"
      }
    },
    {
      "cell_type": "code",
      "source": [],
      "metadata": {
        "id": "jaI2r3u_SxEh"
      },
      "execution_count": null,
      "outputs": []
    },
    {
      "cell_type": "markdown",
      "source": [
        "**Step 4:** Create a combined Dataframe for the predicted and actual values to see the comparison."
      ],
      "metadata": {
        "id": "Xb2bYH5TSxLv"
      }
    },
    {
      "cell_type": "code",
      "source": [],
      "metadata": {
        "id": "ncsNl9czS4sp"
      },
      "execution_count": null,
      "outputs": []
    },
    {
      "cell_type": "markdown",
      "source": [
        "**Step 5:** Create a confusion matrix to see the accruacy of the predictions"
      ],
      "metadata": {
        "id": "Y7Kk-3AQS4zQ"
      }
    },
    {
      "cell_type": "code",
      "source": [],
      "metadata": {
        "id": "9wSCEFIfS98O"
      },
      "execution_count": null,
      "outputs": []
    },
    {
      "cell_type": "markdown",
      "source": [
        "**Congratulations!**\n",
        "\n",
        "You completed 75% of your project. Now it's time to build the PowerBI dashboard to show your findings."
      ],
      "metadata": {
        "id": "mTsPdrGMTI_L"
      }
    }
  ]
}